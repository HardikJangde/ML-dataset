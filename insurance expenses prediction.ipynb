{
 "cells": [
  {
   "cell_type": "code",
   "execution_count": 1,
   "id": "6d2e3c34",
   "metadata": {},
   "outputs": [],
   "source": [
    "import pandas as pd\n",
    "import numpy as np\n",
    "import seaborn as sns\n",
    "import matplotlib.pyplot as plt\n",
    "%matplotlib inline"
   ]
  },
  {
   "cell_type": "code",
   "execution_count": 2,
   "id": "23baee2b",
   "metadata": {},
   "outputs": [],
   "source": [
    "df=pd.read_csv('insurance.csv')"
   ]
  },
  {
   "cell_type": "code",
   "execution_count": 3,
   "id": "435ed2b6",
   "metadata": {},
   "outputs": [
    {
     "data": {
      "text/html": [
       "<div>\n",
       "<style scoped>\n",
       "    .dataframe tbody tr th:only-of-type {\n",
       "        vertical-align: middle;\n",
       "    }\n",
       "\n",
       "    .dataframe tbody tr th {\n",
       "        vertical-align: top;\n",
       "    }\n",
       "\n",
       "    .dataframe thead th {\n",
       "        text-align: right;\n",
       "    }\n",
       "</style>\n",
       "<table border=\"1\" class=\"dataframe\">\n",
       "  <thead>\n",
       "    <tr style=\"text-align: right;\">\n",
       "      <th></th>\n",
       "      <th>age</th>\n",
       "      <th>sex</th>\n",
       "      <th>bmi</th>\n",
       "      <th>children</th>\n",
       "      <th>smoker</th>\n",
       "      <th>region</th>\n",
       "      <th>expenses</th>\n",
       "    </tr>\n",
       "  </thead>\n",
       "  <tbody>\n",
       "    <tr>\n",
       "      <th>0</th>\n",
       "      <td>19</td>\n",
       "      <td>female</td>\n",
       "      <td>27.9</td>\n",
       "      <td>0</td>\n",
       "      <td>yes</td>\n",
       "      <td>southwest</td>\n",
       "      <td>16884.92</td>\n",
       "    </tr>\n",
       "    <tr>\n",
       "      <th>1</th>\n",
       "      <td>18</td>\n",
       "      <td>male</td>\n",
       "      <td>33.8</td>\n",
       "      <td>1</td>\n",
       "      <td>no</td>\n",
       "      <td>southeast</td>\n",
       "      <td>1725.55</td>\n",
       "    </tr>\n",
       "    <tr>\n",
       "      <th>2</th>\n",
       "      <td>28</td>\n",
       "      <td>male</td>\n",
       "      <td>33.0</td>\n",
       "      <td>3</td>\n",
       "      <td>no</td>\n",
       "      <td>southeast</td>\n",
       "      <td>4449.46</td>\n",
       "    </tr>\n",
       "    <tr>\n",
       "      <th>3</th>\n",
       "      <td>33</td>\n",
       "      <td>male</td>\n",
       "      <td>22.7</td>\n",
       "      <td>0</td>\n",
       "      <td>no</td>\n",
       "      <td>northwest</td>\n",
       "      <td>21984.47</td>\n",
       "    </tr>\n",
       "    <tr>\n",
       "      <th>4</th>\n",
       "      <td>32</td>\n",
       "      <td>male</td>\n",
       "      <td>28.9</td>\n",
       "      <td>0</td>\n",
       "      <td>no</td>\n",
       "      <td>northwest</td>\n",
       "      <td>3866.86</td>\n",
       "    </tr>\n",
       "  </tbody>\n",
       "</table>\n",
       "</div>"
      ],
      "text/plain": [
       "   age     sex   bmi  children smoker     region  expenses\n",
       "0   19  female  27.9         0    yes  southwest  16884.92\n",
       "1   18    male  33.8         1     no  southeast   1725.55\n",
       "2   28    male  33.0         3     no  southeast   4449.46\n",
       "3   33    male  22.7         0     no  northwest  21984.47\n",
       "4   32    male  28.9         0     no  northwest   3866.86"
      ]
     },
     "execution_count": 3,
     "metadata": {},
     "output_type": "execute_result"
    }
   ],
   "source": [
    "df.head()"
   ]
  },
  {
   "cell_type": "code",
   "execution_count": 4,
   "id": "3b9a80bc",
   "metadata": {},
   "outputs": [
    {
     "data": {
      "text/plain": [
       "(1338, 7)"
      ]
     },
     "execution_count": 4,
     "metadata": {},
     "output_type": "execute_result"
    }
   ],
   "source": [
    "df.shape"
   ]
  },
  {
   "cell_type": "code",
   "execution_count": 5,
   "id": "d0ecc238",
   "metadata": {},
   "outputs": [
    {
     "data": {
      "text/plain": [
       "Index(['age', 'sex', 'bmi', 'children', 'smoker', 'region', 'expenses'], dtype='object')"
      ]
     },
     "execution_count": 5,
     "metadata": {},
     "output_type": "execute_result"
    }
   ],
   "source": [
    "df.columns"
   ]
  },
  {
   "cell_type": "code",
   "execution_count": 6,
   "id": "b45352ac",
   "metadata": {},
   "outputs": [
    {
     "name": "stdout",
     "output_type": "stream",
     "text": [
      "<class 'pandas.core.frame.DataFrame'>\n",
      "RangeIndex: 1338 entries, 0 to 1337\n",
      "Data columns (total 7 columns):\n",
      " #   Column    Non-Null Count  Dtype  \n",
      "---  ------    --------------  -----  \n",
      " 0   age       1338 non-null   int64  \n",
      " 1   sex       1338 non-null   object \n",
      " 2   bmi       1338 non-null   float64\n",
      " 3   children  1338 non-null   int64  \n",
      " 4   smoker    1338 non-null   object \n",
      " 5   region    1338 non-null   object \n",
      " 6   expenses  1338 non-null   float64\n",
      "dtypes: float64(2), int64(2), object(3)\n",
      "memory usage: 73.3+ KB\n"
     ]
    }
   ],
   "source": [
    "df.info()"
   ]
  },
  {
   "cell_type": "code",
   "execution_count": 7,
   "id": "6f727386",
   "metadata": {},
   "outputs": [
    {
     "data": {
      "text/html": [
       "<div>\n",
       "<style scoped>\n",
       "    .dataframe tbody tr th:only-of-type {\n",
       "        vertical-align: middle;\n",
       "    }\n",
       "\n",
       "    .dataframe tbody tr th {\n",
       "        vertical-align: top;\n",
       "    }\n",
       "\n",
       "    .dataframe thead th {\n",
       "        text-align: right;\n",
       "    }\n",
       "</style>\n",
       "<table border=\"1\" class=\"dataframe\">\n",
       "  <thead>\n",
       "    <tr style=\"text-align: right;\">\n",
       "      <th></th>\n",
       "      <th>age</th>\n",
       "      <th>bmi</th>\n",
       "      <th>children</th>\n",
       "      <th>expenses</th>\n",
       "    </tr>\n",
       "  </thead>\n",
       "  <tbody>\n",
       "    <tr>\n",
       "      <th>count</th>\n",
       "      <td>1338.000000</td>\n",
       "      <td>1338.000000</td>\n",
       "      <td>1338.000000</td>\n",
       "      <td>1338.000000</td>\n",
       "    </tr>\n",
       "    <tr>\n",
       "      <th>mean</th>\n",
       "      <td>39.207025</td>\n",
       "      <td>30.665471</td>\n",
       "      <td>1.094918</td>\n",
       "      <td>13270.422414</td>\n",
       "    </tr>\n",
       "    <tr>\n",
       "      <th>std</th>\n",
       "      <td>14.049960</td>\n",
       "      <td>6.098382</td>\n",
       "      <td>1.205493</td>\n",
       "      <td>12110.011240</td>\n",
       "    </tr>\n",
       "    <tr>\n",
       "      <th>min</th>\n",
       "      <td>18.000000</td>\n",
       "      <td>16.000000</td>\n",
       "      <td>0.000000</td>\n",
       "      <td>1121.870000</td>\n",
       "    </tr>\n",
       "    <tr>\n",
       "      <th>25%</th>\n",
       "      <td>27.000000</td>\n",
       "      <td>26.300000</td>\n",
       "      <td>0.000000</td>\n",
       "      <td>4740.287500</td>\n",
       "    </tr>\n",
       "    <tr>\n",
       "      <th>50%</th>\n",
       "      <td>39.000000</td>\n",
       "      <td>30.400000</td>\n",
       "      <td>1.000000</td>\n",
       "      <td>9382.030000</td>\n",
       "    </tr>\n",
       "    <tr>\n",
       "      <th>75%</th>\n",
       "      <td>51.000000</td>\n",
       "      <td>34.700000</td>\n",
       "      <td>2.000000</td>\n",
       "      <td>16639.915000</td>\n",
       "    </tr>\n",
       "    <tr>\n",
       "      <th>max</th>\n",
       "      <td>64.000000</td>\n",
       "      <td>53.100000</td>\n",
       "      <td>5.000000</td>\n",
       "      <td>63770.430000</td>\n",
       "    </tr>\n",
       "  </tbody>\n",
       "</table>\n",
       "</div>"
      ],
      "text/plain": [
       "               age          bmi     children      expenses\n",
       "count  1338.000000  1338.000000  1338.000000   1338.000000\n",
       "mean     39.207025    30.665471     1.094918  13270.422414\n",
       "std      14.049960     6.098382     1.205493  12110.011240\n",
       "min      18.000000    16.000000     0.000000   1121.870000\n",
       "25%      27.000000    26.300000     0.000000   4740.287500\n",
       "50%      39.000000    30.400000     1.000000   9382.030000\n",
       "75%      51.000000    34.700000     2.000000  16639.915000\n",
       "max      64.000000    53.100000     5.000000  63770.430000"
      ]
     },
     "execution_count": 7,
     "metadata": {},
     "output_type": "execute_result"
    }
   ],
   "source": [
    "df.describe()"
   ]
  },
  {
   "cell_type": "code",
   "execution_count": 8,
   "id": "a01866c7",
   "metadata": {},
   "outputs": [
    {
     "data": {
      "text/plain": [
       "age         0\n",
       "sex         0\n",
       "bmi         0\n",
       "children    0\n",
       "smoker      0\n",
       "region      0\n",
       "expenses    0\n",
       "dtype: int64"
      ]
     },
     "execution_count": 8,
     "metadata": {},
     "output_type": "execute_result"
    }
   ],
   "source": [
    "df.isnull().sum()"
   ]
  },
  {
   "cell_type": "markdown",
   "id": "312b5181",
   "metadata": {},
   "source": [
    "# data visulaization"
   ]
  },
  {
   "cell_type": "markdown",
   "id": "62c69b37",
   "metadata": {},
   "source": [
    "univariate analysis"
   ]
  },
  {
   "cell_type": "code",
   "execution_count": 9,
   "id": "d7ab9e86",
   "metadata": {},
   "outputs": [
    {
     "data": {
      "text/plain": [
       "<AxesSubplot:xlabel='sex', ylabel='count'>"
      ]
     },
     "execution_count": 9,
     "metadata": {},
     "output_type": "execute_result"
    },
    {
     "data": {
      "image/png": "[encoded data removed]",
      "text/plain": [
       "<Figure size 432x288 with 1 Axes>"
      ]
     },
     "metadata": {
      "needs_background": "light"
     },
     "output_type": "display_data"
    }
   ],
   "source": [
    "sns.countplot(x='sex',data=df,palette='bright')"
   ]
  },
  {
   "cell_type": "code",
   "execution_count": 10,
   "id": "f017d3a2",
   "metadata": {},
   "outputs": [
    {
     "data": {
      "text/plain": [
       "<AxesSubplot:xlabel='children', ylabel='count'>"
      ]
     },
     "execution_count": 10,
     "metadata": {},
     "output_type": "execute_result"
    },
    {
     "data": {
      "image/png": "[encoded data removed]",
      "text/plain": [
       "<Figure size 432x288 with 1 Axes>"
      ]
     },
     "metadata": {
      "needs_background": "light"
     },
     "output_type": "display_data"
    }
   ],
   "source": [
    "sns.countplot(x='children',data=df,palette='bright')"
   ]
  },
  {
   "cell_type": "code",
   "execution_count": 11,
   "id": "c074f998",
   "metadata": {},
   "outputs": [
    {
     "data": {
      "text/plain": [
       "<AxesSubplot:xlabel='region', ylabel='count'>"
      ]
     },
     "execution_count": 11,
     "metadata": {},
     "output_type": "execute_result"
    },
    {
     "data": {
      "image/png": "[encoded data removed]",
      "text/plain": [
       "<Figure size 432x288 with 1 Axes>"
      ]
     },
     "metadata": {
      "needs_background": "light"
     },
     "output_type": "display_data"
    }
   ],
   "source": [
    "sns.countplot(x='region',data=df,palette='bright')"
   ]
  },
  {
   "cell_type": "code",
   "execution_count": 12,
   "id": "8486c304",
   "metadata": {},
   "outputs": [
    {
     "name": "stderr",
     "output_type": "stream",
     "text": [
      "C:\\Users\\Hardik\\anaconda3\\lib\\site-packages\\seaborn\\distributions.py:2619: FutureWarning: `distplot` is a deprecated function and will be removed in a future version. Please adapt your code to use either `displot` (a figure-level function with similar flexibility) or `histplot` (an axes-level function for histograms).\n",
      "  warnings.warn(msg, FutureWarning)\n"
     ]
    },
    {
     "data": {
      "text/plain": [
       "<AxesSubplot:xlabel='age', ylabel='Density'>"
      ]
     },
     "execution_count": 12,
     "metadata": {},
     "output_type": "execute_result"
    },
    {
     "data": {
      "image/png": "[encoded data removed]",
      "text/plain": [
       "<Figure size 432x288 with 1 Axes>"
      ]
     },
     "metadata": {
      "needs_background": "light"
     },
     "output_type": "display_data"
    }
   ],
   "source": [
    "sns.distplot(df['age'],color='orange')"
   ]
  },
  {
   "cell_type": "code",
   "execution_count": 13,
   "id": "a3afd5e3",
   "metadata": {},
   "outputs": [
    {
     "name": "stderr",
     "output_type": "stream",
     "text": [
      "C:\\Users\\Hardik\\anaconda3\\lib\\site-packages\\seaborn\\distributions.py:2619: FutureWarning: `distplot` is a deprecated function and will be removed in a future version. Please adapt your code to use either `displot` (a figure-level function with similar flexibility) or `histplot` (an axes-level function for histograms).\n",
      "  warnings.warn(msg, FutureWarning)\n"
     ]
    },
    {
     "data": {
      "text/plain": [
       "<AxesSubplot:xlabel='expenses', ylabel='Density'>"
      ]
     },
     "execution_count": 13,
     "metadata": {},
     "output_type": "execute_result"
    },
    {
     "data": {
      "image/png": "[encoded data removed]",
      "text/plain": [
       "<Figure size 432x288 with 1 Axes>"
      ]
     },
     "metadata": {
      "needs_background": "light"
     },
     "output_type": "display_data"
    }
   ],
   "source": [
    "sns.distplot(df['expenses'],color='green')"
   ]
  },
  {
   "cell_type": "code",
   "execution_count": 14,
   "id": "ca2dc570",
   "metadata": {},
   "outputs": [],
   "source": [
    "#bivariate analusis in tearms of expenses"
   ]
  },
  {
   "cell_type": "code",
   "execution_count": 15,
   "id": "6fd806fe",
   "metadata": {},
   "outputs": [
    {
     "data": {
      "text/plain": [
       "<AxesSubplot:xlabel='sex', ylabel='expenses'>"
      ]
     },
     "execution_count": 15,
     "metadata": {},
     "output_type": "execute_result"
    },
    {
     "data": {
      "image/png": "[encoded data removed]",
      "text/plain": [
       "<Figure size 432x288 with 1 Axes>"
      ]
     },
     "metadata": {
      "needs_background": "light"
     },
     "output_type": "display_data"
    }
   ],
   "source": [
    "sns.barplot(x='sex',y='expenses',data=df,palette='bright')"
   ]
  },
  {
   "cell_type": "code",
   "execution_count": 16,
   "id": "be7eb164",
   "metadata": {},
   "outputs": [
    {
     "data": {
      "text/plain": [
       "<AxesSubplot:xlabel='smoker', ylabel='expenses'>"
      ]
     },
     "execution_count": 16,
     "metadata": {},
     "output_type": "execute_result"
    },
    {
     "data": {
      "image/png": "[encoded data removed]",
      "text/plain": [
       "<Figure size 432x288 with 1 Axes>"
      ]
     },
     "metadata": {
      "needs_background": "light"
     },
     "output_type": "display_data"
    }
   ],
   "source": [
    "sns.barplot(x='smoker',y='expenses',data=df,palette='bright')"
   ]
  },
  {
   "cell_type": "code",
   "execution_count": 17,
   "id": "3aa2c98e",
   "metadata": {},
   "outputs": [
    {
     "data": {
      "text/plain": [
       "<AxesSubplot:xlabel='region', ylabel='expenses'>"
      ]
     },
     "execution_count": 17,
     "metadata": {},
     "output_type": "execute_result"
    },
    {
     "data": {
      "image/png": "[encoded data removed]",
      "text/plain": [
       "<Figure size 432x288 with 1 Axes>"
      ]
     },
     "metadata": {
      "needs_background": "light"
     },
     "output_type": "display_data"
    }
   ],
   "source": [
    "sns.barplot(x='region',y='expenses',data=df,palette='bright')"
   ]
  },
  {
   "cell_type": "code",
   "execution_count": 18,
   "id": "8290487c",
   "metadata": {},
   "outputs": [],
   "source": [
    "#multivariate analysis"
   ]
  },
  {
   "cell_type": "code",
   "execution_count": 19,
   "id": "5a11643b",
   "metadata": {},
   "outputs": [
    {
     "data": {
      "text/plain": [
       "<AxesSubplot:xlabel='region', ylabel='expenses'>"
      ]
     },
     "execution_count": 19,
     "metadata": {},
     "output_type": "execute_result"
    },
    {
     "data": {
      "image/png": "[encoded data removed]",
      "text/plain": [
       "<Figure size 432x288 with 1 Axes>"
      ]
     },
     "metadata": {
      "needs_background": "light"
     },
     "output_type": "display_data"
    }
   ],
   "source": [
    "sns.barplot(x='region',y='expenses',hue='smoker',data=df,palette='dark')"
   ]
  },
  {
   "cell_type": "code",
   "execution_count": 20,
   "id": "a54df48c",
   "metadata": {},
   "outputs": [
    {
     "data": {
      "text/plain": [
       "<seaborn.axisgrid.PairGrid at 0x1dd45beed90>"
      ]
     },
     "execution_count": 20,
     "metadata": {},
     "output_type": "execute_result"
    },
    {
     "data": {
      "image/png": "[encoded data removed]",
      "text/plain": [
       "<Figure size 720x720 with 20 Axes>"
      ]
     },
     "metadata": {
      "needs_background": "light"
     },
     "output_type": "display_data"
    }
   ],
   "source": [
    "sns.pairplot(data=df)"
   ]
  },
  {
   "cell_type": "code",
   "execution_count": 21,
   "id": "cfe201d7",
   "metadata": {},
   "outputs": [
    {
     "data": {
      "text/plain": [
       "<AxesSubplot:>"
      ]
     },
     "execution_count": 21,
     "metadata": {},
     "output_type": "execute_result"
    },
    {
     "data": {
      "image/png": "[encoded data removed]",
      "text/plain": [
       "<Figure size 432x288 with 2 Axes>"
      ]
     },
     "metadata": {
      "needs_background": "light"
     },
     "output_type": "display_data"
    }
   ],
   "source": [
    "#coorelation\n",
    "sns.heatmap(df.corr(),annot=True)"
   ]
  },
  {
   "cell_type": "code",
   "execution_count": 22,
   "id": "fdae162d",
   "metadata": {},
   "outputs": [
    {
     "data": {
      "text/html": [
       "<div>\n",
       "<style scoped>\n",
       "    .dataframe tbody tr th:only-of-type {\n",
       "        vertical-align: middle;\n",
       "    }\n",
       "\n",
       "    .dataframe tbody tr th {\n",
       "        vertical-align: top;\n",
       "    }\n",
       "\n",
       "    .dataframe thead th {\n",
       "        text-align: right;\n",
       "    }\n",
       "</style>\n",
       "<table border=\"1\" class=\"dataframe\">\n",
       "  <thead>\n",
       "    <tr style=\"text-align: right;\">\n",
       "      <th></th>\n",
       "      <th>age</th>\n",
       "      <th>sex</th>\n",
       "      <th>bmi</th>\n",
       "      <th>children</th>\n",
       "      <th>smoker</th>\n",
       "      <th>region</th>\n",
       "      <th>expenses</th>\n",
       "    </tr>\n",
       "  </thead>\n",
       "  <tbody>\n",
       "    <tr>\n",
       "      <th>0</th>\n",
       "      <td>19</td>\n",
       "      <td>female</td>\n",
       "      <td>27.9</td>\n",
       "      <td>0</td>\n",
       "      <td>yes</td>\n",
       "      <td>southwest</td>\n",
       "      <td>16884.92</td>\n",
       "    </tr>\n",
       "    <tr>\n",
       "      <th>1</th>\n",
       "      <td>18</td>\n",
       "      <td>male</td>\n",
       "      <td>33.8</td>\n",
       "      <td>1</td>\n",
       "      <td>no</td>\n",
       "      <td>southeast</td>\n",
       "      <td>1725.55</td>\n",
       "    </tr>\n",
       "    <tr>\n",
       "      <th>2</th>\n",
       "      <td>28</td>\n",
       "      <td>male</td>\n",
       "      <td>33.0</td>\n",
       "      <td>3</td>\n",
       "      <td>no</td>\n",
       "      <td>southeast</td>\n",
       "      <td>4449.46</td>\n",
       "    </tr>\n",
       "    <tr>\n",
       "      <th>3</th>\n",
       "      <td>33</td>\n",
       "      <td>male</td>\n",
       "      <td>22.7</td>\n",
       "      <td>0</td>\n",
       "      <td>no</td>\n",
       "      <td>northwest</td>\n",
       "      <td>21984.47</td>\n",
       "    </tr>\n",
       "    <tr>\n",
       "      <th>4</th>\n",
       "      <td>32</td>\n",
       "      <td>male</td>\n",
       "      <td>28.9</td>\n",
       "      <td>0</td>\n",
       "      <td>no</td>\n",
       "      <td>northwest</td>\n",
       "      <td>3866.86</td>\n",
       "    </tr>\n",
       "    <tr>\n",
       "      <th>...</th>\n",
       "      <td>...</td>\n",
       "      <td>...</td>\n",
       "      <td>...</td>\n",
       "      <td>...</td>\n",
       "      <td>...</td>\n",
       "      <td>...</td>\n",
       "      <td>...</td>\n",
       "    </tr>\n",
       "    <tr>\n",
       "      <th>1333</th>\n",
       "      <td>50</td>\n",
       "      <td>male</td>\n",
       "      <td>31.0</td>\n",
       "      <td>3</td>\n",
       "      <td>no</td>\n",
       "      <td>northwest</td>\n",
       "      <td>10600.55</td>\n",
       "    </tr>\n",
       "    <tr>\n",
       "      <th>1334</th>\n",
       "      <td>18</td>\n",
       "      <td>female</td>\n",
       "      <td>31.9</td>\n",
       "      <td>0</td>\n",
       "      <td>no</td>\n",
       "      <td>northeast</td>\n",
       "      <td>2205.98</td>\n",
       "    </tr>\n",
       "    <tr>\n",
       "      <th>1335</th>\n",
       "      <td>18</td>\n",
       "      <td>female</td>\n",
       "      <td>36.9</td>\n",
       "      <td>0</td>\n",
       "      <td>no</td>\n",
       "      <td>southeast</td>\n",
       "      <td>1629.83</td>\n",
       "    </tr>\n",
       "    <tr>\n",
       "      <th>1336</th>\n",
       "      <td>21</td>\n",
       "      <td>female</td>\n",
       "      <td>25.8</td>\n",
       "      <td>0</td>\n",
       "      <td>no</td>\n",
       "      <td>southwest</td>\n",
       "      <td>2007.95</td>\n",
       "    </tr>\n",
       "    <tr>\n",
       "      <th>1337</th>\n",
       "      <td>61</td>\n",
       "      <td>female</td>\n",
       "      <td>29.1</td>\n",
       "      <td>0</td>\n",
       "      <td>yes</td>\n",
       "      <td>northwest</td>\n",
       "      <td>29141.36</td>\n",
       "    </tr>\n",
       "  </tbody>\n",
       "</table>\n",
       "<p>1338 rows × 7 columns</p>\n",
       "</div>"
      ],
      "text/plain": [
       "      age     sex   bmi  children smoker     region  expenses\n",
       "0      19  female  27.9         0    yes  southwest  16884.92\n",
       "1      18    male  33.8         1     no  southeast   1725.55\n",
       "2      28    male  33.0         3     no  southeast   4449.46\n",
       "3      33    male  22.7         0     no  northwest  21984.47\n",
       "4      32    male  28.9         0     no  northwest   3866.86\n",
       "...   ...     ...   ...       ...    ...        ...       ...\n",
       "1333   50    male  31.0         3     no  northwest  10600.55\n",
       "1334   18  female  31.9         0     no  northeast   2205.98\n",
       "1335   18  female  36.9         0     no  southeast   1629.83\n",
       "1336   21  female  25.8         0     no  southwest   2007.95\n",
       "1337   61  female  29.1         0    yes  northwest  29141.36\n",
       "\n",
       "[1338 rows x 7 columns]"
      ]
     },
     "execution_count": 22,
     "metadata": {},
     "output_type": "execute_result"
    }
   ],
   "source": [
    "df"
   ]
  },
  {
   "cell_type": "markdown",
   "id": "d366e5a7",
   "metadata": {},
   "source": [
    "# Encoding"
   ]
  },
  {
   "cell_type": "code",
   "execution_count": 23,
   "id": "8280f73b",
   "metadata": {},
   "outputs": [],
   "source": [
    "df['sex'] = df['sex'].map({'female':0,'male':1})"
   ]
  },
  {
   "cell_type": "code",
   "execution_count": 24,
   "id": "73e56aa0",
   "metadata": {},
   "outputs": [],
   "source": [
    "df['smoker'] = df['smoker'].map({'yes':1,'no':0})"
   ]
  },
  {
   "cell_type": "code",
   "execution_count": 25,
   "id": "fcbfe01d",
   "metadata": {},
   "outputs": [],
   "source": [
    "df['region']= df['region'].map({'southeast':0,'southwest':1,'northwest':2,'northeast':3})"
   ]
  },
  {
   "cell_type": "code",
   "execution_count": 26,
   "id": "94a6d2d9",
   "metadata": {},
   "outputs": [
    {
     "data": {
      "text/html": [
       "<div>\n",
       "<style scoped>\n",
       "    .dataframe tbody tr th:only-of-type {\n",
       "        vertical-align: middle;\n",
       "    }\n",
       "\n",
       "    .dataframe tbody tr th {\n",
       "        vertical-align: top;\n",
       "    }\n",
       "\n",
       "    .dataframe thead th {\n",
       "        text-align: right;\n",
       "    }\n",
       "</style>\n",
       "<table border=\"1\" class=\"dataframe\">\n",
       "  <thead>\n",
       "    <tr style=\"text-align: right;\">\n",
       "      <th></th>\n",
       "      <th>age</th>\n",
       "      <th>sex</th>\n",
       "      <th>bmi</th>\n",
       "      <th>children</th>\n",
       "      <th>smoker</th>\n",
       "      <th>region</th>\n",
       "      <th>expenses</th>\n",
       "    </tr>\n",
       "  </thead>\n",
       "  <tbody>\n",
       "    <tr>\n",
       "      <th>0</th>\n",
       "      <td>19</td>\n",
       "      <td>0</td>\n",
       "      <td>27.9</td>\n",
       "      <td>0</td>\n",
       "      <td>1</td>\n",
       "      <td>1</td>\n",
       "      <td>16884.92</td>\n",
       "    </tr>\n",
       "    <tr>\n",
       "      <th>1</th>\n",
       "      <td>18</td>\n",
       "      <td>1</td>\n",
       "      <td>33.8</td>\n",
       "      <td>1</td>\n",
       "      <td>0</td>\n",
       "      <td>0</td>\n",
       "      <td>1725.55</td>\n",
       "    </tr>\n",
       "    <tr>\n",
       "      <th>2</th>\n",
       "      <td>28</td>\n",
       "      <td>1</td>\n",
       "      <td>33.0</td>\n",
       "      <td>3</td>\n",
       "      <td>0</td>\n",
       "      <td>0</td>\n",
       "      <td>4449.46</td>\n",
       "    </tr>\n",
       "    <tr>\n",
       "      <th>3</th>\n",
       "      <td>33</td>\n",
       "      <td>1</td>\n",
       "      <td>22.7</td>\n",
       "      <td>0</td>\n",
       "      <td>0</td>\n",
       "      <td>2</td>\n",
       "      <td>21984.47</td>\n",
       "    </tr>\n",
       "    <tr>\n",
       "      <th>4</th>\n",
       "      <td>32</td>\n",
       "      <td>1</td>\n",
       "      <td>28.9</td>\n",
       "      <td>0</td>\n",
       "      <td>0</td>\n",
       "      <td>2</td>\n",
       "      <td>3866.86</td>\n",
       "    </tr>\n",
       "    <tr>\n",
       "      <th>...</th>\n",
       "      <td>...</td>\n",
       "      <td>...</td>\n",
       "      <td>...</td>\n",
       "      <td>...</td>\n",
       "      <td>...</td>\n",
       "      <td>...</td>\n",
       "      <td>...</td>\n",
       "    </tr>\n",
       "    <tr>\n",
       "      <th>1333</th>\n",
       "      <td>50</td>\n",
       "      <td>1</td>\n",
       "      <td>31.0</td>\n",
       "      <td>3</td>\n",
       "      <td>0</td>\n",
       "      <td>2</td>\n",
       "      <td>10600.55</td>\n",
       "    </tr>\n",
       "    <tr>\n",
       "      <th>1334</th>\n",
       "      <td>18</td>\n",
       "      <td>0</td>\n",
       "      <td>31.9</td>\n",
       "      <td>0</td>\n",
       "      <td>0</td>\n",
       "      <td>3</td>\n",
       "      <td>2205.98</td>\n",
       "    </tr>\n",
       "    <tr>\n",
       "      <th>1335</th>\n",
       "      <td>18</td>\n",
       "      <td>0</td>\n",
       "      <td>36.9</td>\n",
       "      <td>0</td>\n",
       "      <td>0</td>\n",
       "      <td>0</td>\n",
       "      <td>1629.83</td>\n",
       "    </tr>\n",
       "    <tr>\n",
       "      <th>1336</th>\n",
       "      <td>21</td>\n",
       "      <td>0</td>\n",
       "      <td>25.8</td>\n",
       "      <td>0</td>\n",
       "      <td>0</td>\n",
       "      <td>1</td>\n",
       "      <td>2007.95</td>\n",
       "    </tr>\n",
       "    <tr>\n",
       "      <th>1337</th>\n",
       "      <td>61</td>\n",
       "      <td>0</td>\n",
       "      <td>29.1</td>\n",
       "      <td>0</td>\n",
       "      <td>1</td>\n",
       "      <td>2</td>\n",
       "      <td>29141.36</td>\n",
       "    </tr>\n",
       "  </tbody>\n",
       "</table>\n",
       "<p>1338 rows × 7 columns</p>\n",
       "</div>"
      ],
      "text/plain": [
       "      age  sex   bmi  children  smoker  region  expenses\n",
       "0      19    0  27.9         0       1       1  16884.92\n",
       "1      18    1  33.8         1       0       0   1725.55\n",
       "2      28    1  33.0         3       0       0   4449.46\n",
       "3      33    1  22.7         0       0       2  21984.47\n",
       "4      32    1  28.9         0       0       2   3866.86\n",
       "...   ...  ...   ...       ...     ...     ...       ...\n",
       "1333   50    1  31.0         3       0       2  10600.55\n",
       "1334   18    0  31.9         0       0       3   2205.98\n",
       "1335   18    0  36.9         0       0       0   1629.83\n",
       "1336   21    0  25.8         0       0       1   2007.95\n",
       "1337   61    0  29.1         0       1       2  29141.36\n",
       "\n",
       "[1338 rows x 7 columns]"
      ]
     },
     "execution_count": 26,
     "metadata": {},
     "output_type": "execute_result"
    }
   ],
   "source": [
    "df"
   ]
  },
  {
   "cell_type": "markdown",
   "id": "73d11907",
   "metadata": {},
   "source": [
    "# spliting data"
   ]
  },
  {
   "cell_type": "code",
   "execution_count": 27,
   "id": "e24f9339",
   "metadata": {},
   "outputs": [],
   "source": [
    "X=df.drop('expenses',axis=1)"
   ]
  },
  {
   "cell_type": "code",
   "execution_count": 28,
   "id": "432750a1",
   "metadata": {},
   "outputs": [
    {
     "data": {
      "text/html": [
       "<div>\n",
       "<style scoped>\n",
       "    .dataframe tbody tr th:only-of-type {\n",
       "        vertical-align: middle;\n",
       "    }\n",
       "\n",
       "    .dataframe tbody tr th {\n",
       "        vertical-align: top;\n",
       "    }\n",
       "\n",
       "    .dataframe thead th {\n",
       "        text-align: right;\n",
       "    }\n",
       "</style>\n",
       "<table border=\"1\" class=\"dataframe\">\n",
       "  <thead>\n",
       "    <tr style=\"text-align: right;\">\n",
       "      <th></th>\n",
       "      <th>age</th>\n",
       "      <th>sex</th>\n",
       "      <th>bmi</th>\n",
       "      <th>children</th>\n",
       "      <th>smoker</th>\n",
       "      <th>region</th>\n",
       "    </tr>\n",
       "  </thead>\n",
       "  <tbody>\n",
       "    <tr>\n",
       "      <th>0</th>\n",
       "      <td>19</td>\n",
       "      <td>0</td>\n",
       "      <td>27.9</td>\n",
       "      <td>0</td>\n",
       "      <td>1</td>\n",
       "      <td>1</td>\n",
       "    </tr>\n",
       "    <tr>\n",
       "      <th>1</th>\n",
       "      <td>18</td>\n",
       "      <td>1</td>\n",
       "      <td>33.8</td>\n",
       "      <td>1</td>\n",
       "      <td>0</td>\n",
       "      <td>0</td>\n",
       "    </tr>\n",
       "    <tr>\n",
       "      <th>2</th>\n",
       "      <td>28</td>\n",
       "      <td>1</td>\n",
       "      <td>33.0</td>\n",
       "      <td>3</td>\n",
       "      <td>0</td>\n",
       "      <td>0</td>\n",
       "    </tr>\n",
       "    <tr>\n",
       "      <th>3</th>\n",
       "      <td>33</td>\n",
       "      <td>1</td>\n",
       "      <td>22.7</td>\n",
       "      <td>0</td>\n",
       "      <td>0</td>\n",
       "      <td>2</td>\n",
       "    </tr>\n",
       "    <tr>\n",
       "      <th>4</th>\n",
       "      <td>32</td>\n",
       "      <td>1</td>\n",
       "      <td>28.9</td>\n",
       "      <td>0</td>\n",
       "      <td>0</td>\n",
       "      <td>2</td>\n",
       "    </tr>\n",
       "    <tr>\n",
       "      <th>...</th>\n",
       "      <td>...</td>\n",
       "      <td>...</td>\n",
       "      <td>...</td>\n",
       "      <td>...</td>\n",
       "      <td>...</td>\n",
       "      <td>...</td>\n",
       "    </tr>\n",
       "    <tr>\n",
       "      <th>1333</th>\n",
       "      <td>50</td>\n",
       "      <td>1</td>\n",
       "      <td>31.0</td>\n",
       "      <td>3</td>\n",
       "      <td>0</td>\n",
       "      <td>2</td>\n",
       "    </tr>\n",
       "    <tr>\n",
       "      <th>1334</th>\n",
       "      <td>18</td>\n",
       "      <td>0</td>\n",
       "      <td>31.9</td>\n",
       "      <td>0</td>\n",
       "      <td>0</td>\n",
       "      <td>3</td>\n",
       "    </tr>\n",
       "    <tr>\n",
       "      <th>1335</th>\n",
       "      <td>18</td>\n",
       "      <td>0</td>\n",
       "      <td>36.9</td>\n",
       "      <td>0</td>\n",
       "      <td>0</td>\n",
       "      <td>0</td>\n",
       "    </tr>\n",
       "    <tr>\n",
       "      <th>1336</th>\n",
       "      <td>21</td>\n",
       "      <td>0</td>\n",
       "      <td>25.8</td>\n",
       "      <td>0</td>\n",
       "      <td>0</td>\n",
       "      <td>1</td>\n",
       "    </tr>\n",
       "    <tr>\n",
       "      <th>1337</th>\n",
       "      <td>61</td>\n",
       "      <td>0</td>\n",
       "      <td>29.1</td>\n",
       "      <td>0</td>\n",
       "      <td>1</td>\n",
       "      <td>2</td>\n",
       "    </tr>\n",
       "  </tbody>\n",
       "</table>\n",
       "<p>1338 rows × 6 columns</p>\n",
       "</div>"
      ],
      "text/plain": [
       "      age  sex   bmi  children  smoker  region\n",
       "0      19    0  27.9         0       1       1\n",
       "1      18    1  33.8         1       0       0\n",
       "2      28    1  33.0         3       0       0\n",
       "3      33    1  22.7         0       0       2\n",
       "4      32    1  28.9         0       0       2\n",
       "...   ...  ...   ...       ...     ...     ...\n",
       "1333   50    1  31.0         3       0       2\n",
       "1334   18    0  31.9         0       0       3\n",
       "1335   18    0  36.9         0       0       0\n",
       "1336   21    0  25.8         0       0       1\n",
       "1337   61    0  29.1         0       1       2\n",
       "\n",
       "[1338 rows x 6 columns]"
      ]
     },
     "execution_count": 28,
     "metadata": {},
     "output_type": "execute_result"
    }
   ],
   "source": [
    "X"
   ]
  },
  {
   "cell_type": "code",
   "execution_count": 29,
   "id": "8f7150b9",
   "metadata": {},
   "outputs": [],
   "source": [
    "y=df['expenses']"
   ]
  },
  {
   "cell_type": "code",
   "execution_count": 30,
   "id": "b1520a34",
   "metadata": {},
   "outputs": [
    {
     "data": {
      "text/plain": [
       "0       16884.92\n",
       "1        1725.55\n",
       "2        4449.46\n",
       "3       21984.47\n",
       "4        3866.86\n",
       "          ...   \n",
       "1333    10600.55\n",
       "1334     2205.98\n",
       "1335     1629.83\n",
       "1336     2007.95\n",
       "1337    29141.36\n",
       "Name: expenses, Length: 1338, dtype: float64"
      ]
     },
     "execution_count": 30,
     "metadata": {},
     "output_type": "execute_result"
    }
   ],
   "source": [
    "y"
   ]
  },
  {
   "cell_type": "code",
   "execution_count": 31,
   "id": "29c5ded2",
   "metadata": {},
   "outputs": [],
   "source": [
    "from sklearn.model_selection import train_test_split"
   ]
  },
  {
   "cell_type": "code",
   "execution_count": 32,
   "id": "5ae4a0e2",
   "metadata": {},
   "outputs": [],
   "source": [
    "X_train,X_test,y_train,y_test=train_test_split(X,y,test_size=0.3,random_state=32)"
   ]
  },
  {
   "cell_type": "code",
   "execution_count": 33,
   "id": "d255b382",
   "metadata": {},
   "outputs": [
    {
     "data": {
      "text/html": [
       "<div>\n",
       "<style scoped>\n",
       "    .dataframe tbody tr th:only-of-type {\n",
       "        vertical-align: middle;\n",
       "    }\n",
       "\n",
       "    .dataframe tbody tr th {\n",
       "        vertical-align: top;\n",
       "    }\n",
       "\n",
       "    .dataframe thead th {\n",
       "        text-align: right;\n",
       "    }\n",
       "</style>\n",
       "<table border=\"1\" class=\"dataframe\">\n",
       "  <thead>\n",
       "    <tr style=\"text-align: right;\">\n",
       "      <th></th>\n",
       "      <th>age</th>\n",
       "      <th>sex</th>\n",
       "      <th>bmi</th>\n",
       "      <th>children</th>\n",
       "      <th>smoker</th>\n",
       "      <th>region</th>\n",
       "    </tr>\n",
       "  </thead>\n",
       "  <tbody>\n",
       "    <tr>\n",
       "      <th>385</th>\n",
       "      <td>19</td>\n",
       "      <td>1</td>\n",
       "      <td>34.4</td>\n",
       "      <td>0</td>\n",
       "      <td>0</td>\n",
       "      <td>1</td>\n",
       "    </tr>\n",
       "    <tr>\n",
       "      <th>822</th>\n",
       "      <td>18</td>\n",
       "      <td>0</td>\n",
       "      <td>31.1</td>\n",
       "      <td>0</td>\n",
       "      <td>0</td>\n",
       "      <td>0</td>\n",
       "    </tr>\n",
       "    <tr>\n",
       "      <th>801</th>\n",
       "      <td>64</td>\n",
       "      <td>0</td>\n",
       "      <td>36.0</td>\n",
       "      <td>0</td>\n",
       "      <td>0</td>\n",
       "      <td>0</td>\n",
       "    </tr>\n",
       "    <tr>\n",
       "      <th>749</th>\n",
       "      <td>28</td>\n",
       "      <td>1</td>\n",
       "      <td>30.9</td>\n",
       "      <td>0</td>\n",
       "      <td>0</td>\n",
       "      <td>2</td>\n",
       "    </tr>\n",
       "    <tr>\n",
       "      <th>869</th>\n",
       "      <td>25</td>\n",
       "      <td>0</td>\n",
       "      <td>24.3</td>\n",
       "      <td>3</td>\n",
       "      <td>0</td>\n",
       "      <td>1</td>\n",
       "    </tr>\n",
       "    <tr>\n",
       "      <th>...</th>\n",
       "      <td>...</td>\n",
       "      <td>...</td>\n",
       "      <td>...</td>\n",
       "      <td>...</td>\n",
       "      <td>...</td>\n",
       "      <td>...</td>\n",
       "    </tr>\n",
       "    <tr>\n",
       "      <th>252</th>\n",
       "      <td>54</td>\n",
       "      <td>1</td>\n",
       "      <td>34.2</td>\n",
       "      <td>2</td>\n",
       "      <td>1</td>\n",
       "      <td>0</td>\n",
       "    </tr>\n",
       "    <tr>\n",
       "      <th>88</th>\n",
       "      <td>46</td>\n",
       "      <td>0</td>\n",
       "      <td>27.7</td>\n",
       "      <td>0</td>\n",
       "      <td>0</td>\n",
       "      <td>2</td>\n",
       "    </tr>\n",
       "    <tr>\n",
       "      <th>892</th>\n",
       "      <td>54</td>\n",
       "      <td>1</td>\n",
       "      <td>24.0</td>\n",
       "      <td>0</td>\n",
       "      <td>0</td>\n",
       "      <td>3</td>\n",
       "    </tr>\n",
       "    <tr>\n",
       "      <th>1334</th>\n",
       "      <td>18</td>\n",
       "      <td>0</td>\n",
       "      <td>31.9</td>\n",
       "      <td>0</td>\n",
       "      <td>0</td>\n",
       "      <td>3</td>\n",
       "    </tr>\n",
       "    <tr>\n",
       "      <th>727</th>\n",
       "      <td>29</td>\n",
       "      <td>0</td>\n",
       "      <td>21.8</td>\n",
       "      <td>1</td>\n",
       "      <td>1</td>\n",
       "      <td>3</td>\n",
       "    </tr>\n",
       "  </tbody>\n",
       "</table>\n",
       "<p>936 rows × 6 columns</p>\n",
       "</div>"
      ],
      "text/plain": [
       "      age  sex   bmi  children  smoker  region\n",
       "385    19    1  34.4         0       0       1\n",
       "822    18    0  31.1         0       0       0\n",
       "801    64    0  36.0         0       0       0\n",
       "749    28    1  30.9         0       0       2\n",
       "869    25    0  24.3         3       0       1\n",
       "...   ...  ...   ...       ...     ...     ...\n",
       "252    54    1  34.2         2       1       0\n",
       "88     46    0  27.7         0       0       2\n",
       "892    54    1  24.0         0       0       3\n",
       "1334   18    0  31.9         0       0       3\n",
       "727    29    0  21.8         1       1       3\n",
       "\n",
       "[936 rows x 6 columns]"
      ]
     },
     "execution_count": 33,
     "metadata": {},
     "output_type": "execute_result"
    }
   ],
   "source": [
    "X_train"
   ]
  },
  {
   "cell_type": "markdown",
   "id": "08415496",
   "metadata": {},
   "source": [
    "# Model building (standardization)"
   ]
  },
  {
   "cell_type": "code",
   "execution_count": 47,
   "id": "a8ce7bca",
   "metadata": {},
   "outputs": [],
   "source": [
    "from sklearn.preprocessing import StandardScaler"
   ]
  },
  {
   "cell_type": "code",
   "execution_count": 48,
   "id": "0e53ec92",
   "metadata": {},
   "outputs": [],
   "source": [
    "scaler=StandardScaler()"
   ]
  },
  {
   "cell_type": "code",
   "execution_count": 49,
   "id": "ef2ceda3",
   "metadata": {},
   "outputs": [],
   "source": [
    "X_train=scaler.fit_transform(X_train)"
   ]
  },
  {
   "cell_type": "code",
   "execution_count": 50,
   "id": "11d2f67d",
   "metadata": {},
   "outputs": [],
   "source": [
    "X_test=scaler.transform(X_test)"
   ]
  },
  {
   "cell_type": "code",
   "execution_count": 51,
   "id": "f0663c5d",
   "metadata": {},
   "outputs": [],
   "source": [
    "from sklearn.linear_model import LinearRegression"
   ]
  },
  {
   "cell_type": "code",
   "execution_count": 52,
   "id": "281f0d03",
   "metadata": {},
   "outputs": [],
   "source": [
    "lm=LinearRegression()"
   ]
  },
  {
   "cell_type": "code",
   "execution_count": 53,
   "id": "7a9c788a",
   "metadata": {},
   "outputs": [
    {
     "data": {
      "text/plain": [
       "LinearRegression()"
      ]
     },
     "execution_count": 53,
     "metadata": {},
     "output_type": "execute_result"
    }
   ],
   "source": [
    "lm.fit(X_train,y_train)"
   ]
  },
  {
   "cell_type": "code",
   "execution_count": 54,
   "id": "a1cf0923",
   "metadata": {},
   "outputs": [
    {
     "data": {
      "text/plain": [
       "array([3514.65187839,  -70.94308164, 2246.65986575,  592.39627134,\n",
       "       9601.23704034,  472.6032009 ])"
      ]
     },
     "execution_count": 54,
     "metadata": {},
     "output_type": "execute_result"
    }
   ],
   "source": [
    "lm.coef_"
   ]
  },
  {
   "cell_type": "code",
   "execution_count": 55,
   "id": "d8848461",
   "metadata": {},
   "outputs": [
    {
     "data": {
      "text/plain": [
       "13362.057820512822"
      ]
     },
     "execution_count": 55,
     "metadata": {},
     "output_type": "execute_result"
    }
   ],
   "source": [
    "lm.intercept_"
   ]
  },
  {
   "cell_type": "code",
   "execution_count": 56,
   "id": "048b3b4c",
   "metadata": {},
   "outputs": [],
   "source": [
    "y_pred=lm.predict(X_test)"
   ]
  },
  {
   "cell_type": "code",
   "execution_count": 57,
   "id": "f09c4a9f",
   "metadata": {},
   "outputs": [
    {
     "data": {
      "text/plain": [
       "array([10340.7125458 , 25838.96271859,  6046.53704468, 10751.47480166,\n",
       "        8820.8065651 ,  2742.95580758, 38522.9862794 ,  3555.46696442,\n",
       "        5430.79656225, 12719.68905052,  4287.3805392 ,  2834.32608051,\n",
       "       13677.87587387, 37629.87339683, 15868.35431673, 35631.00560602,\n",
       "       16548.52112104, 10913.06663958, 12973.06928589,  7708.41989245,\n",
       "        8036.25894815,  9427.33930528, 15399.44123382,  5538.14900518,\n",
       "       36867.00044092,  1122.04066392, 10552.22996328, 25192.15471337,\n",
       "       11989.37859674, 30868.3351465 ,  2829.51595227,  7372.14013946,\n",
       "        3055.097527  , 10285.99093956,  9795.24322524, 34071.83092585,\n",
       "        9077.31349224, 11103.8363067 , 15590.55932845, 15136.53662559,\n",
       "        5253.19566633,  1108.75978036, 10123.28853806,  4317.75147925,\n",
       "        6077.23099084,  7312.80163883,  9988.04301746,  5645.87725657,\n",
       "       12440.12285648, 28630.0446025 , 26779.43924749, 36550.80511906,\n",
       "        3844.31086999,  5440.59274557, 14977.01531698, 25832.77021631,\n",
       "        2143.49695882,  7155.9407672 , 11507.77307134, 15202.7405287 ,\n",
       "       33574.39815181,  6509.80566218,  3370.40731606, -1424.13173993,\n",
       "       12698.3132201 , 11941.04655723, 13411.08069892, 30327.06383059,\n",
       "       29084.72571571,  6368.13240246, 14173.72001675, 10304.92266403,\n",
       "        9180.89002572,  3303.55579404,  6776.116887  , 14549.09080352,\n",
       "       29808.07265154, 10909.50336275, 27797.52933   , 14942.21005713,\n",
       "        6984.71163802,  6402.55547837,  3304.00794726, 12023.42318712,\n",
       "        3190.30634181,  7862.28862128, 14059.42997024, 15002.75870338,\n",
       "        8021.27268446, 11543.66521223, 16767.4046128 ,   323.06931   ,\n",
       "        9660.83057521,  5443.63166807, 14953.71973494, 11263.85458869,\n",
       "        7586.39607756,  5554.88279209, 10851.01222256,  4836.04384374,\n",
       "        6278.77776478, 30623.83045461, 33194.2286613 ,  4330.06811329,\n",
       "       17649.71952321,  5297.25495518,  5917.32258939, 11232.49411782,\n",
       "       12418.56445147,  2120.33543281,  4266.83904595, 23830.20509266,\n",
       "       31192.55718482, 12502.93303409,  4131.93383849, 12039.81296247,\n",
       "       11956.5716651 ,  1893.18890945, 38522.88402028, 33042.74044463,\n",
       "       30067.40586857,  9076.23472556, 12638.59891102,  3463.34521469,\n",
       "       14180.58765106,  8372.92088509, 15328.39170715, 34504.85360675,\n",
       "       36953.65646925, 12839.48950643, 26198.55254348, 10714.86016368,\n",
       "        2858.6767467 ,  7877.5419187 ,  3965.46855081,  5321.44258564,\n",
       "       10241.8594496 ,  4917.06178214,  8975.19153389,  3792.59148046,\n",
       "        3342.79046479, 14087.29125102,  6308.84509748, 38388.82617324,\n",
       "        6849.03764672, 11772.86924165, 10955.86458717, 14824.16349992,\n",
       "       24722.76993837,  2701.760981  , 28699.56735293,  5650.3707542 ,\n",
       "       31552.95727606,  5659.08593902,  4720.33739448,  7388.79253258,\n",
       "        6739.63630504, 14281.55864163, 14233.36212473,  7924.25634735,\n",
       "        3600.6627312 , 13786.45148569, 30800.5103224 ,  4251.20356459,\n",
       "       36512.36438127,  6351.63666958,  9935.44888656,  1595.17543401,\n",
       "        5739.49175382, 14525.684848  ,  5967.05225802, 18240.34643817,\n",
       "        8273.13756809,  5757.96271775, 18401.34172066, 33884.57971541,\n",
       "       12039.21863886,  7979.27090167,  5390.26875333,  5740.15016417,\n",
       "        8503.97651541,  6183.17942917, 11412.0788521 ,  5303.08199519,\n",
       "       15333.9484033 ,  5210.93656293, 16340.6402598 ,  7578.64291045,\n",
       "        8771.4364762 , 11676.54029459,  5303.38560255, 11089.71471048,\n",
       "       27237.6281581 , 13155.26447197,  6388.08545464,  2932.7888784 ,\n",
       "       13452.01660614,  -332.12659016, 15874.27500856, 11913.93515449,\n",
       "        9874.09328408, 16516.08188349, 13257.2119701 ,  3514.68611869,\n",
       "       12848.2191811 ,  9658.70898242, 16102.13483633, 10088.48327821,\n",
       "       35200.28659957,  8311.40384565, 27035.32767554, 13484.00369046,\n",
       "        1235.08385902,  6793.33462403, 10569.90846085,  3128.05869092,\n",
       "       39876.11845617, 12253.64042988,  7352.74961399, 38005.17198249,\n",
       "        8606.62920358, 11902.42547667,  1415.03628739, 11581.22679269,\n",
       "       25054.9620602 , 35265.30773799, 11500.24702669,  7012.891016  ,\n",
       "         962.83745252, 29815.32246979,  7577.11613421, 25338.22558708,\n",
       "       12810.49456492,  7748.35337776, 10773.5257641 , 11721.43245401,\n",
       "        2726.77228935, 33129.3705586 ,  7772.81441743,  7189.01473257,\n",
       "       13041.63921129,  7225.25088502, 34080.52242814,  5161.02655154,\n",
       "       17149.92072687,  4134.44203118, 15389.81951073,  9409.68818866,\n",
       "       33335.6574915 , 10887.28654739,  9281.21072031, 30747.47041376,\n",
       "        5629.313021  ,  2547.08529595, 27563.50291431, 10090.72112704,\n",
       "       11259.3148043 , 31504.83296026, 30499.01214672, 30806.47779392,\n",
       "       18105.11394083, 14491.67843   ,  7604.31900464, 14257.13577434,\n",
       "         119.0698228 , 33629.59782563, 10478.00745809,  8466.90749238,\n",
       "       32001.71769744,  8974.35719672, -2230.57142726, 14111.6419172 ,\n",
       "       40368.08122501, 11450.92545636,  3854.76546365,  9622.04805768,\n",
       "        9214.37208939, 11430.31840978,  8028.54618524, 39928.33040313,\n",
       "        2574.53036407, 10825.17665094, 28205.59667492,  3498.33451572,\n",
       "       27750.65824111, 28960.741745  , 11604.30162775, 10772.78877716,\n",
       "       11684.3252586 , 24909.87260293,  1935.74096093,  5697.14595946,\n",
       "       28864.67394912,  5329.65602035, 36854.22942184, 10310.74747222,\n",
       "       32182.0263954 ,  2932.7888784 , 11080.04816723, 14019.49648493,\n",
       "        7033.11587863, 16309.15384728,  7611.22481132,  6136.30834028,\n",
       "        2091.28501186, 11594.43547515, 29353.94768956, 37338.20908391,\n",
       "       14666.0008828 ,  3817.56238461,  8319.91277335, 13172.56078559,\n",
       "       15230.61629933, 29178.96682641,  9413.76770546,  1372.27651219,\n",
       "        8776.30149851, 29704.27537108, 33911.2178273 ,  1933.36682426,\n",
       "        7161.10078955, 11170.77082126,  9287.96798113,  3909.91407399,\n",
       "       14446.96884517,  -547.7649023 , 29999.05669015, 16021.32462165,\n",
       "       14620.79062617,  1704.75123591,  3896.8668285 , 28548.43822304,\n",
       "       11695.3042066 , 12916.45972493,  5850.18035112,  4925.26072699,\n",
       "       15505.43007636, 38922.59098337,  2750.93400546, 15789.09946972,\n",
       "        7315.19026535,  9104.13417872,  6894.79817203,  6852.06207937,\n",
       "       31593.41511569, 10585.9305421 ,  4980.98743221,  9979.45551317,\n",
       "       10451.51789207,  4360.14463867, 11302.49493583,  5806.26960814,\n",
       "       10348.34084957,  4512.99537743,  2853.58031814,  8051.84176728,\n",
       "        9527.84511937,  8285.1075135 ,  4090.39723218, 15129.64530875,\n",
       "        8717.50184207, 35306.69579843, 12910.25910828, 14001.77170062,\n",
       "        5144.42682065,  4105.28123675, 11294.1663509 , 25982.70797422,\n",
       "        5330.73701885, 10439.22494057,  6022.71710832, 31303.2839545 ,\n",
       "        9142.60818   , 33751.57057704,  3853.93259308, 27681.56396138,\n",
       "        4894.68352981, 27094.00776582,  9889.23620801, 15541.94883071,\n",
       "       13140.50961453,  7678.72662932, 10319.32860102, -2011.83648136,\n",
       "       12654.92683145, 13645.06894223, 10204.94120427,  4396.25752654,\n",
       "        2199.61396235,  9992.74277222,  4625.32749994,  2914.96183496,\n",
       "        5842.12357665, 29802.58962309, 11260.29131186, 14537.3366962 ,\n",
       "       14892.75219896, 13781.77541346,  4473.68850557, 15204.90840824,\n",
       "       14722.04154156, 10182.93064604])"
      ]
     },
     "execution_count": 57,
     "metadata": {},
     "output_type": "execute_result"
    }
   ],
   "source": [
    "y_pred"
   ]
  },
  {
   "cell_type": "code",
   "execution_count": 58,
   "id": "b897ec00",
   "metadata": {},
   "outputs": [],
   "source": [
    "from sklearn.metrics import r2_score,mean_squared_error,mean_absolute_error"
   ]
  },
  {
   "cell_type": "code",
   "execution_count": 59,
   "id": "4f356890",
   "metadata": {},
   "outputs": [],
   "source": [
    "score=r2_score(y_test,y_pred)"
   ]
  },
  {
   "cell_type": "code",
   "execution_count": 60,
   "id": "7681d12a",
   "metadata": {},
   "outputs": [
    {
     "data": {
      "text/plain": [
       "0.7727061655384655"
      ]
     },
     "execution_count": 60,
     "metadata": {},
     "output_type": "execute_result"
    }
   ],
   "source": [
    "score"
   ]
  },
  {
   "cell_type": "code",
   "execution_count": 61,
   "id": "7ac21d91",
   "metadata": {},
   "outputs": [
    {
     "data": {
      "text/plain": [
       "31208096.257959574"
      ]
     },
     "execution_count": 61,
     "metadata": {},
     "output_type": "execute_result"
    }
   ],
   "source": [
    "mean_squared_error(y_test,y_pred)"
   ]
  },
  {
   "cell_type": "code",
   "execution_count": 62,
   "id": "e2b5334e",
   "metadata": {},
   "outputs": [
    {
     "data": {
      "text/plain": [
       "3948.0733034842465"
      ]
     },
     "execution_count": 62,
     "metadata": {},
     "output_type": "execute_result"
    }
   ],
   "source": [
    "mean_absolute_error(y_test,y_pred)"
   ]
  },
  {
   "cell_type": "code",
   "execution_count": 63,
   "id": "67d3fdcd",
   "metadata": {},
   "outputs": [
    {
     "data": {
      "text/plain": [
       "<AxesSubplot:xlabel='expenses'>"
      ]
     },
     "execution_count": 63,
     "metadata": {},
     "output_type": "execute_result"
    },
    {
     "data": {
      "image/png": "[encoded data removed]",
      "text/plain": [
       "<Figure size 432x288 with 1 Axes>"
      ]
     },
     "metadata": {
      "needs_background": "light"
     },
     "output_type": "display_data"
    }
   ],
   "source": [
    "sns.regplot(x=y_test,y=y_pred)"
   ]
  },
  {
   "cell_type": "markdown",
   "id": "ab04b80e",
   "metadata": {},
   "source": [
    "# Model building (standardization,cross validation) "
   ]
  },
  {
   "cell_type": "code",
   "execution_count": 64,
   "id": "ce401033",
   "metadata": {},
   "outputs": [],
   "source": [
    "from sklearn.linear_model import LinearRegression\n",
    "from sklearn.model_selection import cross_val_score"
   ]
  },
  {
   "cell_type": "code",
   "execution_count": 65,
   "id": "1afec12f",
   "metadata": {},
   "outputs": [],
   "source": [
    "regression=LinearRegression()"
   ]
  },
  {
   "cell_type": "code",
   "execution_count": 66,
   "id": "0edb04fc",
   "metadata": {},
   "outputs": [
    {
     "data": {
      "text/plain": [
       "array([-35278452.76931182, -52008952.40189309, -39978454.20108239,\n",
       "       -30575061.36740416, -41857381.97776446])"
      ]
     },
     "execution_count": 66,
     "metadata": {},
     "output_type": "execute_result"
    }
   ],
   "source": [
    "cross_val_score(regression,X_train,y_train,scoring='neg_mean_squared_error',cv=5)"
   ]
  },
  {
   "cell_type": "code",
   "execution_count": 67,
   "id": "00da9251",
   "metadata": {},
   "outputs": [
    {
     "data": {
      "text/plain": [
       "array([10340.7125458 , 25838.96271859,  6046.53704468, 10751.47480166,\n",
       "        8820.8065651 ,  2742.95580758, 38522.9862794 ,  3555.46696442,\n",
       "        5430.79656225, 12719.68905052,  4287.3805392 ,  2834.32608051,\n",
       "       13677.87587387, 37629.87339683, 15868.35431673, 35631.00560602,\n",
       "       16548.52112104, 10913.06663958, 12973.06928589,  7708.41989245,\n",
       "        8036.25894815,  9427.33930528, 15399.44123382,  5538.14900518,\n",
       "       36867.00044092,  1122.04066392, 10552.22996328, 25192.15471337,\n",
       "       11989.37859674, 30868.3351465 ,  2829.51595227,  7372.14013946,\n",
       "        3055.097527  , 10285.99093956,  9795.24322524, 34071.83092585,\n",
       "        9077.31349224, 11103.8363067 , 15590.55932845, 15136.53662559,\n",
       "        5253.19566633,  1108.75978036, 10123.28853806,  4317.75147925,\n",
       "        6077.23099084,  7312.80163883,  9988.04301746,  5645.87725657,\n",
       "       12440.12285648, 28630.0446025 , 26779.43924749, 36550.80511906,\n",
       "        3844.31086999,  5440.59274557, 14977.01531698, 25832.77021631,\n",
       "        2143.49695882,  7155.9407672 , 11507.77307134, 15202.7405287 ,\n",
       "       33574.39815181,  6509.80566218,  3370.40731606, -1424.13173993,\n",
       "       12698.3132201 , 11941.04655723, 13411.08069892, 30327.06383059,\n",
       "       29084.72571571,  6368.13240246, 14173.72001675, 10304.92266403,\n",
       "        9180.89002572,  3303.55579404,  6776.116887  , 14549.09080352,\n",
       "       29808.07265154, 10909.50336275, 27797.52933   , 14942.21005713,\n",
       "        6984.71163802,  6402.55547837,  3304.00794726, 12023.42318712,\n",
       "        3190.30634181,  7862.28862128, 14059.42997024, 15002.75870338,\n",
       "        8021.27268446, 11543.66521223, 16767.4046128 ,   323.06931   ,\n",
       "        9660.83057521,  5443.63166807, 14953.71973494, 11263.85458869,\n",
       "        7586.39607756,  5554.88279209, 10851.01222256,  4836.04384374,\n",
       "        6278.77776478, 30623.83045461, 33194.2286613 ,  4330.06811329,\n",
       "       17649.71952321,  5297.25495518,  5917.32258939, 11232.49411782,\n",
       "       12418.56445147,  2120.33543281,  4266.83904595, 23830.20509266,\n",
       "       31192.55718482, 12502.93303409,  4131.93383849, 12039.81296247,\n",
       "       11956.5716651 ,  1893.18890945, 38522.88402028, 33042.74044463,\n",
       "       30067.40586857,  9076.23472556, 12638.59891102,  3463.34521469,\n",
       "       14180.58765106,  8372.92088509, 15328.39170715, 34504.85360675,\n",
       "       36953.65646925, 12839.48950643, 26198.55254348, 10714.86016368,\n",
       "        2858.6767467 ,  7877.5419187 ,  3965.46855081,  5321.44258564,\n",
       "       10241.8594496 ,  4917.06178214,  8975.19153389,  3792.59148046,\n",
       "        3342.79046479, 14087.29125102,  6308.84509748, 38388.82617324,\n",
       "        6849.03764672, 11772.86924165, 10955.86458717, 14824.16349992,\n",
       "       24722.76993837,  2701.760981  , 28699.56735293,  5650.3707542 ,\n",
       "       31552.95727606,  5659.08593902,  4720.33739448,  7388.79253258,\n",
       "        6739.63630504, 14281.55864163, 14233.36212473,  7924.25634735,\n",
       "        3600.6627312 , 13786.45148569, 30800.5103224 ,  4251.20356459,\n",
       "       36512.36438127,  6351.63666958,  9935.44888656,  1595.17543401,\n",
       "        5739.49175382, 14525.684848  ,  5967.05225802, 18240.34643817,\n",
       "        8273.13756809,  5757.96271775, 18401.34172066, 33884.57971541,\n",
       "       12039.21863886,  7979.27090167,  5390.26875333,  5740.15016417,\n",
       "        8503.97651541,  6183.17942917, 11412.0788521 ,  5303.08199519,\n",
       "       15333.9484033 ,  5210.93656293, 16340.6402598 ,  7578.64291045,\n",
       "        8771.4364762 , 11676.54029459,  5303.38560255, 11089.71471048,\n",
       "       27237.6281581 , 13155.26447197,  6388.08545464,  2932.7888784 ,\n",
       "       13452.01660614,  -332.12659016, 15874.27500856, 11913.93515449,\n",
       "        9874.09328408, 16516.08188349, 13257.2119701 ,  3514.68611869,\n",
       "       12848.2191811 ,  9658.70898242, 16102.13483633, 10088.48327821,\n",
       "       35200.28659957,  8311.40384565, 27035.32767554, 13484.00369046,\n",
       "        1235.08385902,  6793.33462403, 10569.90846085,  3128.05869092,\n",
       "       39876.11845617, 12253.64042988,  7352.74961399, 38005.17198249,\n",
       "        8606.62920358, 11902.42547667,  1415.03628739, 11581.22679269,\n",
       "       25054.9620602 , 35265.30773799, 11500.24702669,  7012.891016  ,\n",
       "         962.83745252, 29815.32246979,  7577.11613421, 25338.22558708,\n",
       "       12810.49456492,  7748.35337776, 10773.5257641 , 11721.43245401,\n",
       "        2726.77228935, 33129.3705586 ,  7772.81441743,  7189.01473257,\n",
       "       13041.63921129,  7225.25088502, 34080.52242814,  5161.02655154,\n",
       "       17149.92072687,  4134.44203118, 15389.81951073,  9409.68818866,\n",
       "       33335.6574915 , 10887.28654739,  9281.21072031, 30747.47041376,\n",
       "        5629.313021  ,  2547.08529595, 27563.50291431, 10090.72112704,\n",
       "       11259.3148043 , 31504.83296026, 30499.01214672, 30806.47779392,\n",
       "       18105.11394083, 14491.67843   ,  7604.31900464, 14257.13577434,\n",
       "         119.0698228 , 33629.59782563, 10478.00745809,  8466.90749238,\n",
       "       32001.71769744,  8974.35719672, -2230.57142726, 14111.6419172 ,\n",
       "       40368.08122501, 11450.92545636,  3854.76546365,  9622.04805768,\n",
       "        9214.37208939, 11430.31840978,  8028.54618524, 39928.33040313,\n",
       "        2574.53036407, 10825.17665094, 28205.59667492,  3498.33451572,\n",
       "       27750.65824111, 28960.741745  , 11604.30162775, 10772.78877716,\n",
       "       11684.3252586 , 24909.87260293,  1935.74096093,  5697.14595946,\n",
       "       28864.67394912,  5329.65602035, 36854.22942184, 10310.74747222,\n",
       "       32182.0263954 ,  2932.7888784 , 11080.04816723, 14019.49648493,\n",
       "        7033.11587863, 16309.15384728,  7611.22481132,  6136.30834028,\n",
       "        2091.28501186, 11594.43547515, 29353.94768956, 37338.20908391,\n",
       "       14666.0008828 ,  3817.56238461,  8319.91277335, 13172.56078559,\n",
       "       15230.61629933, 29178.96682641,  9413.76770546,  1372.27651219,\n",
       "        8776.30149851, 29704.27537108, 33911.2178273 ,  1933.36682426,\n",
       "        7161.10078955, 11170.77082126,  9287.96798113,  3909.91407399,\n",
       "       14446.96884517,  -547.7649023 , 29999.05669015, 16021.32462165,\n",
       "       14620.79062617,  1704.75123591,  3896.8668285 , 28548.43822304,\n",
       "       11695.3042066 , 12916.45972493,  5850.18035112,  4925.26072699,\n",
       "       15505.43007636, 38922.59098337,  2750.93400546, 15789.09946972,\n",
       "        7315.19026535,  9104.13417872,  6894.79817203,  6852.06207937,\n",
       "       31593.41511569, 10585.9305421 ,  4980.98743221,  9979.45551317,\n",
       "       10451.51789207,  4360.14463867, 11302.49493583,  5806.26960814,\n",
       "       10348.34084957,  4512.99537743,  2853.58031814,  8051.84176728,\n",
       "        9527.84511937,  8285.1075135 ,  4090.39723218, 15129.64530875,\n",
       "        8717.50184207, 35306.69579843, 12910.25910828, 14001.77170062,\n",
       "        5144.42682065,  4105.28123675, 11294.1663509 , 25982.70797422,\n",
       "        5330.73701885, 10439.22494057,  6022.71710832, 31303.2839545 ,\n",
       "        9142.60818   , 33751.57057704,  3853.93259308, 27681.56396138,\n",
       "        4894.68352981, 27094.00776582,  9889.23620801, 15541.94883071,\n",
       "       13140.50961453,  7678.72662932, 10319.32860102, -2011.83648136,\n",
       "       12654.92683145, 13645.06894223, 10204.94120427,  4396.25752654,\n",
       "        2199.61396235,  9992.74277222,  4625.32749994,  2914.96183496,\n",
       "        5842.12357665, 29802.58962309, 11260.29131186, 14537.3366962 ,\n",
       "       14892.75219896, 13781.77541346,  4473.68850557, 15204.90840824,\n",
       "       14722.04154156, 10182.93064604])"
      ]
     },
     "execution_count": 67,
     "metadata": {},
     "output_type": "execute_result"
    }
   ],
   "source": [
    "y_pred"
   ]
  },
  {
   "cell_type": "code",
   "execution_count": 68,
   "id": "db83c73b",
   "metadata": {},
   "outputs": [
    {
     "data": {
      "text/plain": [
       "LinearRegression()"
      ]
     },
     "execution_count": 68,
     "metadata": {},
     "output_type": "execute_result"
    }
   ],
   "source": [
    "regression.fit(X_train,y_train)"
   ]
  },
  {
   "cell_type": "code",
   "execution_count": 69,
   "id": "40c07c69",
   "metadata": {},
   "outputs": [],
   "source": [
    "reg_pred=regression.predict(X_test)"
   ]
  },
  {
   "cell_type": "code",
   "execution_count": 70,
   "id": "0d845215",
   "metadata": {},
   "outputs": [
    {
     "data": {
      "text/plain": [
       "array([10340.7125458 , 25838.96271859,  6046.53704468, 10751.47480166,\n",
       "        8820.8065651 ,  2742.95580758, 38522.9862794 ,  3555.46696442,\n",
       "        5430.79656225, 12719.68905052,  4287.3805392 ,  2834.32608051,\n",
       "       13677.87587387, 37629.87339683, 15868.35431673, 35631.00560602,\n",
       "       16548.52112104, 10913.06663958, 12973.06928589,  7708.41989245,\n",
       "        8036.25894815,  9427.33930528, 15399.44123382,  5538.14900518,\n",
       "       36867.00044092,  1122.04066392, 10552.22996328, 25192.15471337,\n",
       "       11989.37859674, 30868.3351465 ,  2829.51595227,  7372.14013946,\n",
       "        3055.097527  , 10285.99093956,  9795.24322524, 34071.83092585,\n",
       "        9077.31349224, 11103.8363067 , 15590.55932845, 15136.53662559,\n",
       "        5253.19566633,  1108.75978036, 10123.28853806,  4317.75147925,\n",
       "        6077.23099084,  7312.80163883,  9988.04301746,  5645.87725657,\n",
       "       12440.12285648, 28630.0446025 , 26779.43924749, 36550.80511906,\n",
       "        3844.31086999,  5440.59274557, 14977.01531698, 25832.77021631,\n",
       "        2143.49695882,  7155.9407672 , 11507.77307134, 15202.7405287 ,\n",
       "       33574.39815181,  6509.80566218,  3370.40731606, -1424.13173993,\n",
       "       12698.3132201 , 11941.04655723, 13411.08069892, 30327.06383059,\n",
       "       29084.72571571,  6368.13240246, 14173.72001675, 10304.92266403,\n",
       "        9180.89002572,  3303.55579404,  6776.116887  , 14549.09080352,\n",
       "       29808.07265154, 10909.50336275, 27797.52933   , 14942.21005713,\n",
       "        6984.71163802,  6402.55547837,  3304.00794726, 12023.42318712,\n",
       "        3190.30634181,  7862.28862128, 14059.42997024, 15002.75870338,\n",
       "        8021.27268446, 11543.66521223, 16767.4046128 ,   323.06931   ,\n",
       "        9660.83057521,  5443.63166807, 14953.71973494, 11263.85458869,\n",
       "        7586.39607756,  5554.88279209, 10851.01222256,  4836.04384374,\n",
       "        6278.77776478, 30623.83045461, 33194.2286613 ,  4330.06811329,\n",
       "       17649.71952321,  5297.25495518,  5917.32258939, 11232.49411782,\n",
       "       12418.56445147,  2120.33543281,  4266.83904595, 23830.20509266,\n",
       "       31192.55718482, 12502.93303409,  4131.93383849, 12039.81296247,\n",
       "       11956.5716651 ,  1893.18890945, 38522.88402028, 33042.74044463,\n",
       "       30067.40586857,  9076.23472556, 12638.59891102,  3463.34521469,\n",
       "       14180.58765106,  8372.92088509, 15328.39170715, 34504.85360675,\n",
       "       36953.65646925, 12839.48950643, 26198.55254348, 10714.86016368,\n",
       "        2858.6767467 ,  7877.5419187 ,  3965.46855081,  5321.44258564,\n",
       "       10241.8594496 ,  4917.06178214,  8975.19153389,  3792.59148046,\n",
       "        3342.79046479, 14087.29125102,  6308.84509748, 38388.82617324,\n",
       "        6849.03764672, 11772.86924165, 10955.86458717, 14824.16349992,\n",
       "       24722.76993837,  2701.760981  , 28699.56735293,  5650.3707542 ,\n",
       "       31552.95727606,  5659.08593902,  4720.33739448,  7388.79253258,\n",
       "        6739.63630504, 14281.55864163, 14233.36212473,  7924.25634735,\n",
       "        3600.6627312 , 13786.45148569, 30800.5103224 ,  4251.20356459,\n",
       "       36512.36438127,  6351.63666958,  9935.44888656,  1595.17543401,\n",
       "        5739.49175382, 14525.684848  ,  5967.05225802, 18240.34643817,\n",
       "        8273.13756809,  5757.96271775, 18401.34172066, 33884.57971541,\n",
       "       12039.21863886,  7979.27090167,  5390.26875333,  5740.15016417,\n",
       "        8503.97651541,  6183.17942917, 11412.0788521 ,  5303.08199519,\n",
       "       15333.9484033 ,  5210.93656293, 16340.6402598 ,  7578.64291045,\n",
       "        8771.4364762 , 11676.54029459,  5303.38560255, 11089.71471048,\n",
       "       27237.6281581 , 13155.26447197,  6388.08545464,  2932.7888784 ,\n",
       "       13452.01660614,  -332.12659016, 15874.27500856, 11913.93515449,\n",
       "        9874.09328408, 16516.08188349, 13257.2119701 ,  3514.68611869,\n",
       "       12848.2191811 ,  9658.70898242, 16102.13483633, 10088.48327821,\n",
       "       35200.28659957,  8311.40384565, 27035.32767554, 13484.00369046,\n",
       "        1235.08385902,  6793.33462403, 10569.90846085,  3128.05869092,\n",
       "       39876.11845617, 12253.64042988,  7352.74961399, 38005.17198249,\n",
       "        8606.62920358, 11902.42547667,  1415.03628739, 11581.22679269,\n",
       "       25054.9620602 , 35265.30773799, 11500.24702669,  7012.891016  ,\n",
       "         962.83745252, 29815.32246979,  7577.11613421, 25338.22558708,\n",
       "       12810.49456492,  7748.35337776, 10773.5257641 , 11721.43245401,\n",
       "        2726.77228935, 33129.3705586 ,  7772.81441743,  7189.01473257,\n",
       "       13041.63921129,  7225.25088502, 34080.52242814,  5161.02655154,\n",
       "       17149.92072687,  4134.44203118, 15389.81951073,  9409.68818866,\n",
       "       33335.6574915 , 10887.28654739,  9281.21072031, 30747.47041376,\n",
       "        5629.313021  ,  2547.08529595, 27563.50291431, 10090.72112704,\n",
       "       11259.3148043 , 31504.83296026, 30499.01214672, 30806.47779392,\n",
       "       18105.11394083, 14491.67843   ,  7604.31900464, 14257.13577434,\n",
       "         119.0698228 , 33629.59782563, 10478.00745809,  8466.90749238,\n",
       "       32001.71769744,  8974.35719672, -2230.57142726, 14111.6419172 ,\n",
       "       40368.08122501, 11450.92545636,  3854.76546365,  9622.04805768,\n",
       "        9214.37208939, 11430.31840978,  8028.54618524, 39928.33040313,\n",
       "        2574.53036407, 10825.17665094, 28205.59667492,  3498.33451572,\n",
       "       27750.65824111, 28960.741745  , 11604.30162775, 10772.78877716,\n",
       "       11684.3252586 , 24909.87260293,  1935.74096093,  5697.14595946,\n",
       "       28864.67394912,  5329.65602035, 36854.22942184, 10310.74747222,\n",
       "       32182.0263954 ,  2932.7888784 , 11080.04816723, 14019.49648493,\n",
       "        7033.11587863, 16309.15384728,  7611.22481132,  6136.30834028,\n",
       "        2091.28501186, 11594.43547515, 29353.94768956, 37338.20908391,\n",
       "       14666.0008828 ,  3817.56238461,  8319.91277335, 13172.56078559,\n",
       "       15230.61629933, 29178.96682641,  9413.76770546,  1372.27651219,\n",
       "        8776.30149851, 29704.27537108, 33911.2178273 ,  1933.36682426,\n",
       "        7161.10078955, 11170.77082126,  9287.96798113,  3909.91407399,\n",
       "       14446.96884517,  -547.7649023 , 29999.05669015, 16021.32462165,\n",
       "       14620.79062617,  1704.75123591,  3896.8668285 , 28548.43822304,\n",
       "       11695.3042066 , 12916.45972493,  5850.18035112,  4925.26072699,\n",
       "       15505.43007636, 38922.59098337,  2750.93400546, 15789.09946972,\n",
       "        7315.19026535,  9104.13417872,  6894.79817203,  6852.06207937,\n",
       "       31593.41511569, 10585.9305421 ,  4980.98743221,  9979.45551317,\n",
       "       10451.51789207,  4360.14463867, 11302.49493583,  5806.26960814,\n",
       "       10348.34084957,  4512.99537743,  2853.58031814,  8051.84176728,\n",
       "        9527.84511937,  8285.1075135 ,  4090.39723218, 15129.64530875,\n",
       "        8717.50184207, 35306.69579843, 12910.25910828, 14001.77170062,\n",
       "        5144.42682065,  4105.28123675, 11294.1663509 , 25982.70797422,\n",
       "        5330.73701885, 10439.22494057,  6022.71710832, 31303.2839545 ,\n",
       "        9142.60818   , 33751.57057704,  3853.93259308, 27681.56396138,\n",
       "        4894.68352981, 27094.00776582,  9889.23620801, 15541.94883071,\n",
       "       13140.50961453,  7678.72662932, 10319.32860102, -2011.83648136,\n",
       "       12654.92683145, 13645.06894223, 10204.94120427,  4396.25752654,\n",
       "        2199.61396235,  9992.74277222,  4625.32749994,  2914.96183496,\n",
       "        5842.12357665, 29802.58962309, 11260.29131186, 14537.3366962 ,\n",
       "       14892.75219896, 13781.77541346,  4473.68850557, 15204.90840824,\n",
       "       14722.04154156, 10182.93064604])"
      ]
     },
     "execution_count": 70,
     "metadata": {},
     "output_type": "execute_result"
    }
   ],
   "source": [
    "reg_pred"
   ]
  },
  {
   "cell_type": "code",
   "execution_count": 71,
   "id": "0b13af07",
   "metadata": {},
   "outputs": [],
   "source": [
    "from sklearn.metrics import r2_score,mean_squared_error,mean_absolute_error"
   ]
  },
  {
   "cell_type": "code",
   "execution_count": 72,
   "id": "3d2bacb6",
   "metadata": {},
   "outputs": [],
   "source": [
    "score=r2_score(y_test,reg_pred)"
   ]
  },
  {
   "cell_type": "code",
   "execution_count": 73,
   "id": "84421734",
   "metadata": {},
   "outputs": [
    {
     "data": {
      "text/plain": [
       "0.7727061655384655"
      ]
     },
     "execution_count": 73,
     "metadata": {},
     "output_type": "execute_result"
    }
   ],
   "source": [
    "score"
   ]
  },
  {
   "cell_type": "code",
   "execution_count": 74,
   "id": "18a6eda8",
   "metadata": {},
   "outputs": [
    {
     "data": {
      "text/plain": [
       "31208096.257959574"
      ]
     },
     "execution_count": 74,
     "metadata": {},
     "output_type": "execute_result"
    }
   ],
   "source": [
    "mean_squared_error(y_test,reg_pred)"
   ]
  },
  {
   "cell_type": "code",
   "execution_count": 75,
   "id": "b896baf3",
   "metadata": {},
   "outputs": [
    {
     "data": {
      "text/plain": [
       "3948.0733034842465"
      ]
     },
     "execution_count": 75,
     "metadata": {},
     "output_type": "execute_result"
    }
   ],
   "source": [
    "mean_absolute_error(y_test,reg_pred)"
   ]
  },
  {
   "cell_type": "code",
   "execution_count": 76,
   "id": "a169aac4",
   "metadata": {},
   "outputs": [
    {
     "data": {
      "text/plain": [
       "<AxesSubplot:xlabel='expenses'>"
      ]
     },
     "execution_count": 76,
     "metadata": {},
     "output_type": "execute_result"
    },
    {
     "data": {
      "image/png": "[encoded data removed]",
      "text/plain": [
       "<Figure size 432x288 with 1 Axes>"
      ]
     },
     "metadata": {
      "needs_background": "light"
     },
     "output_type": "display_data"
    }
   ],
   "source": [
    "sns.regplot(x=y_test,y=reg_pred)"
   ]
  },
  {
   "cell_type": "code",
   "execution_count": 77,
   "id": "dc70cc7c",
   "metadata": {},
   "outputs": [
    {
     "name": "stderr",
     "output_type": "stream",
     "text": [
      "C:\\Users\\Hardik\\anaconda3\\lib\\site-packages\\seaborn\\distributions.py:2619: FutureWarning: `distplot` is a deprecated function and will be removed in a future version. Please adapt your code to use either `displot` (a figure-level function with similar flexibility) or `histplot` (an axes-level function for histograms).\n",
      "  warnings.warn(msg, FutureWarning)\n"
     ]
    },
    {
     "data": {
      "text/plain": [
       "<AxesSubplot:xlabel='expenses', ylabel='Density'>"
      ]
     },
     "execution_count": 77,
     "metadata": {},
     "output_type": "execute_result"
    },
    {
     "data": {
      "image/png": "[encoded data removed]",
      "text/plain": [
       "<Figure size 432x288 with 1 Axes>"
      ]
     },
     "metadata": {
      "needs_background": "light"
     },
     "output_type": "display_data"
    }
   ],
   "source": [
    "sns.distplot(reg_pred-y_test,color='red')"
   ]
  },
  {
   "cell_type": "markdown",
   "id": "8c3d8750",
   "metadata": {},
   "source": [
    "# Model building (standardization,cross validation) "
   ]
  },
  {
   "cell_type": "code",
   "execution_count": 78,
   "id": "f76c76e6",
   "metadata": {},
   "outputs": [],
   "source": [
    "from sklearn.linear_model import LinearRegression\n",
    "from sklearn.model_selection import GridSearchCV"
   ]
  },
  {
   "cell_type": "code",
   "execution_count": 79,
   "id": "a66a177f",
   "metadata": {},
   "outputs": [],
   "source": [
    "regression=LinearRegression()"
   ]
  },
  {
   "cell_type": "code",
   "execution_count": 80,
   "id": "bb20b6c4",
   "metadata": {},
   "outputs": [],
   "source": [
    "parameters={'n_jobs':[1,2,3,4,5,6,8,9,]}\n",
    "cv=GridSearchCV(regression,parameters,scoring='neg_mean_squared_error',cv=5)"
   ]
  },
  {
   "cell_type": "code",
   "execution_count": 81,
   "id": "7f7cfadd",
   "metadata": {},
   "outputs": [
    {
     "data": {
      "text/plain": [
       "GridSearchCV(cv=5, estimator=LinearRegression(),\n",
       "             param_grid={'n_jobs': [1, 2, 3, 4, 5, 6, 8, 9]},\n",
       "             scoring='neg_mean_squared_error')"
      ]
     },
     "execution_count": 81,
     "metadata": {},
     "output_type": "execute_result"
    }
   ],
   "source": [
    "cv.fit(X_train,y_train)"
   ]
  },
  {
   "cell_type": "code",
   "execution_count": 82,
   "id": "9b788ff6",
   "metadata": {},
   "outputs": [
    {
     "name": "stdout",
     "output_type": "stream",
     "text": [
      "{'n_jobs': 1}\n"
     ]
    }
   ],
   "source": [
    "print(cv.best_params_)"
   ]
  },
  {
   "cell_type": "code",
   "execution_count": 83,
   "id": "b663c8b8",
   "metadata": {},
   "outputs": [],
   "source": [
    "Y_pred=cv.predict(X_test)"
   ]
  },
  {
   "cell_type": "code",
   "execution_count": 84,
   "id": "50626ebe",
   "metadata": {},
   "outputs": [
    {
     "data": {
      "text/plain": [
       "array([10340.7125458 , 25838.96271859,  6046.53704468, 10751.47480166,\n",
       "        8820.8065651 ,  2742.95580758, 38522.9862794 ,  3555.46696442,\n",
       "        5430.79656225, 12719.68905052,  4287.3805392 ,  2834.32608051,\n",
       "       13677.87587387, 37629.87339683, 15868.35431673, 35631.00560602,\n",
       "       16548.52112104, 10913.06663958, 12973.06928589,  7708.41989245,\n",
       "        8036.25894815,  9427.33930528, 15399.44123382,  5538.14900518,\n",
       "       36867.00044092,  1122.04066392, 10552.22996328, 25192.15471337,\n",
       "       11989.37859674, 30868.3351465 ,  2829.51595227,  7372.14013946,\n",
       "        3055.097527  , 10285.99093956,  9795.24322524, 34071.83092585,\n",
       "        9077.31349224, 11103.8363067 , 15590.55932845, 15136.53662559,\n",
       "        5253.19566633,  1108.75978036, 10123.28853806,  4317.75147925,\n",
       "        6077.23099084,  7312.80163883,  9988.04301746,  5645.87725657,\n",
       "       12440.12285648, 28630.0446025 , 26779.43924749, 36550.80511906,\n",
       "        3844.31086999,  5440.59274557, 14977.01531698, 25832.77021631,\n",
       "        2143.49695882,  7155.9407672 , 11507.77307134, 15202.7405287 ,\n",
       "       33574.39815181,  6509.80566218,  3370.40731606, -1424.13173993,\n",
       "       12698.3132201 , 11941.04655723, 13411.08069892, 30327.06383059,\n",
       "       29084.72571571,  6368.13240246, 14173.72001675, 10304.92266403,\n",
       "        9180.89002572,  3303.55579404,  6776.116887  , 14549.09080352,\n",
       "       29808.07265154, 10909.50336275, 27797.52933   , 14942.21005713,\n",
       "        6984.71163802,  6402.55547837,  3304.00794726, 12023.42318712,\n",
       "        3190.30634181,  7862.28862128, 14059.42997024, 15002.75870338,\n",
       "        8021.27268446, 11543.66521223, 16767.4046128 ,   323.06931   ,\n",
       "        9660.83057521,  5443.63166807, 14953.71973494, 11263.85458869,\n",
       "        7586.39607756,  5554.88279209, 10851.01222256,  4836.04384374,\n",
       "        6278.77776478, 30623.83045461, 33194.2286613 ,  4330.06811329,\n",
       "       17649.71952321,  5297.25495518,  5917.32258939, 11232.49411782,\n",
       "       12418.56445147,  2120.33543281,  4266.83904595, 23830.20509266,\n",
       "       31192.55718482, 12502.93303409,  4131.93383849, 12039.81296247,\n",
       "       11956.5716651 ,  1893.18890945, 38522.88402028, 33042.74044463,\n",
       "       30067.40586857,  9076.23472556, 12638.59891102,  3463.34521469,\n",
       "       14180.58765106,  8372.92088509, 15328.39170715, 34504.85360675,\n",
       "       36953.65646925, 12839.48950643, 26198.55254348, 10714.86016368,\n",
       "        2858.6767467 ,  7877.5419187 ,  3965.46855081,  5321.44258564,\n",
       "       10241.8594496 ,  4917.06178214,  8975.19153389,  3792.59148046,\n",
       "        3342.79046479, 14087.29125102,  6308.84509748, 38388.82617324,\n",
       "        6849.03764672, 11772.86924165, 10955.86458717, 14824.16349992,\n",
       "       24722.76993837,  2701.760981  , 28699.56735293,  5650.3707542 ,\n",
       "       31552.95727606,  5659.08593902,  4720.33739448,  7388.79253258,\n",
       "        6739.63630504, 14281.55864163, 14233.36212473,  7924.25634735,\n",
       "        3600.6627312 , 13786.45148569, 30800.5103224 ,  4251.20356459,\n",
       "       36512.36438127,  6351.63666958,  9935.44888656,  1595.17543401,\n",
       "        5739.49175382, 14525.684848  ,  5967.05225802, 18240.34643817,\n",
       "        8273.13756809,  5757.96271775, 18401.34172066, 33884.57971541,\n",
       "       12039.21863886,  7979.27090167,  5390.26875333,  5740.15016417,\n",
       "        8503.97651541,  6183.17942917, 11412.0788521 ,  5303.08199519,\n",
       "       15333.9484033 ,  5210.93656293, 16340.6402598 ,  7578.64291045,\n",
       "        8771.4364762 , 11676.54029459,  5303.38560255, 11089.71471048,\n",
       "       27237.6281581 , 13155.26447197,  6388.08545464,  2932.7888784 ,\n",
       "       13452.01660614,  -332.12659016, 15874.27500856, 11913.93515449,\n",
       "        9874.09328408, 16516.08188349, 13257.2119701 ,  3514.68611869,\n",
       "       12848.2191811 ,  9658.70898242, 16102.13483633, 10088.48327821,\n",
       "       35200.28659957,  8311.40384565, 27035.32767554, 13484.00369046,\n",
       "        1235.08385902,  6793.33462403, 10569.90846085,  3128.05869092,\n",
       "       39876.11845617, 12253.64042988,  7352.74961399, 38005.17198249,\n",
       "        8606.62920358, 11902.42547667,  1415.03628739, 11581.22679269,\n",
       "       25054.9620602 , 35265.30773799, 11500.24702669,  7012.891016  ,\n",
       "         962.83745252, 29815.32246979,  7577.11613421, 25338.22558708,\n",
       "       12810.49456492,  7748.35337776, 10773.5257641 , 11721.43245401,\n",
       "        2726.77228935, 33129.3705586 ,  7772.81441743,  7189.01473257,\n",
       "       13041.63921129,  7225.25088502, 34080.52242814,  5161.02655154,\n",
       "       17149.92072687,  4134.44203118, 15389.81951073,  9409.68818866,\n",
       "       33335.6574915 , 10887.28654739,  9281.21072031, 30747.47041376,\n",
       "        5629.313021  ,  2547.08529595, 27563.50291431, 10090.72112704,\n",
       "       11259.3148043 , 31504.83296026, 30499.01214672, 30806.47779392,\n",
       "       18105.11394083, 14491.67843   ,  7604.31900464, 14257.13577434,\n",
       "         119.0698228 , 33629.59782563, 10478.00745809,  8466.90749238,\n",
       "       32001.71769744,  8974.35719672, -2230.57142726, 14111.6419172 ,\n",
       "       40368.08122501, 11450.92545636,  3854.76546365,  9622.04805768,\n",
       "        9214.37208939, 11430.31840978,  8028.54618524, 39928.33040313,\n",
       "        2574.53036407, 10825.17665094, 28205.59667492,  3498.33451572,\n",
       "       27750.65824111, 28960.741745  , 11604.30162775, 10772.78877716,\n",
       "       11684.3252586 , 24909.87260293,  1935.74096093,  5697.14595946,\n",
       "       28864.67394912,  5329.65602035, 36854.22942184, 10310.74747222,\n",
       "       32182.0263954 ,  2932.7888784 , 11080.04816723, 14019.49648493,\n",
       "        7033.11587863, 16309.15384728,  7611.22481132,  6136.30834028,\n",
       "        2091.28501186, 11594.43547515, 29353.94768956, 37338.20908391,\n",
       "       14666.0008828 ,  3817.56238461,  8319.91277335, 13172.56078559,\n",
       "       15230.61629933, 29178.96682641,  9413.76770546,  1372.27651219,\n",
       "        8776.30149851, 29704.27537108, 33911.2178273 ,  1933.36682426,\n",
       "        7161.10078955, 11170.77082126,  9287.96798113,  3909.91407399,\n",
       "       14446.96884517,  -547.7649023 , 29999.05669015, 16021.32462165,\n",
       "       14620.79062617,  1704.75123591,  3896.8668285 , 28548.43822304,\n",
       "       11695.3042066 , 12916.45972493,  5850.18035112,  4925.26072699,\n",
       "       15505.43007636, 38922.59098337,  2750.93400546, 15789.09946972,\n",
       "        7315.19026535,  9104.13417872,  6894.79817203,  6852.06207937,\n",
       "       31593.41511569, 10585.9305421 ,  4980.98743221,  9979.45551317,\n",
       "       10451.51789207,  4360.14463867, 11302.49493583,  5806.26960814,\n",
       "       10348.34084957,  4512.99537743,  2853.58031814,  8051.84176728,\n",
       "        9527.84511937,  8285.1075135 ,  4090.39723218, 15129.64530875,\n",
       "        8717.50184207, 35306.69579843, 12910.25910828, 14001.77170062,\n",
       "        5144.42682065,  4105.28123675, 11294.1663509 , 25982.70797422,\n",
       "        5330.73701885, 10439.22494057,  6022.71710832, 31303.2839545 ,\n",
       "        9142.60818   , 33751.57057704,  3853.93259308, 27681.56396138,\n",
       "        4894.68352981, 27094.00776582,  9889.23620801, 15541.94883071,\n",
       "       13140.50961453,  7678.72662932, 10319.32860102, -2011.83648136,\n",
       "       12654.92683145, 13645.06894223, 10204.94120427,  4396.25752654,\n",
       "        2199.61396235,  9992.74277222,  4625.32749994,  2914.96183496,\n",
       "        5842.12357665, 29802.58962309, 11260.29131186, 14537.3366962 ,\n",
       "       14892.75219896, 13781.77541346,  4473.68850557, 15204.90840824,\n",
       "       14722.04154156, 10182.93064604])"
      ]
     },
     "execution_count": 84,
     "metadata": {},
     "output_type": "execute_result"
    }
   ],
   "source": [
    "Y_pred"
   ]
  },
  {
   "cell_type": "code",
   "execution_count": 85,
   "id": "c6a6ce90",
   "metadata": {},
   "outputs": [],
   "source": [
    "from sklearn.metrics import r2_score,mean_squared_error,mean_absolute_error"
   ]
  },
  {
   "cell_type": "code",
   "execution_count": 86,
   "id": "e85c8319",
   "metadata": {},
   "outputs": [],
   "source": [
    "score=r2_score(y_test,Y_pred)"
   ]
  },
  {
   "cell_type": "code",
   "execution_count": 87,
   "id": "eb9f6b3e",
   "metadata": {},
   "outputs": [
    {
     "data": {
      "text/plain": [
       "0.7727061655384655"
      ]
     },
     "execution_count": 87,
     "metadata": {},
     "output_type": "execute_result"
    }
   ],
   "source": [
    "score"
   ]
  },
  {
   "cell_type": "code",
   "execution_count": 88,
   "id": "8467809c",
   "metadata": {},
   "outputs": [
    {
     "data": {
      "text/plain": [
       "31208096.257959574"
      ]
     },
     "execution_count": 88,
     "metadata": {},
     "output_type": "execute_result"
    }
   ],
   "source": [
    "mean_squared_error(y_test,Y_pred)"
   ]
  },
  {
   "cell_type": "code",
   "execution_count": 89,
   "id": "4da05049",
   "metadata": {},
   "outputs": [
    {
     "name": "stderr",
     "output_type": "stream",
     "text": [
      "C:\\Users\\Hardik\\anaconda3\\lib\\site-packages\\seaborn\\distributions.py:2619: FutureWarning: `distplot` is a deprecated function and will be removed in a future version. Please adapt your code to use either `displot` (a figure-level function with similar flexibility) or `histplot` (an axes-level function for histograms).\n",
      "  warnings.warn(msg, FutureWarning)\n"
     ]
    },
    {
     "data": {
      "text/plain": [
       "<AxesSubplot:xlabel='expenses', ylabel='Density'>"
      ]
     },
     "execution_count": 89,
     "metadata": {},
     "output_type": "execute_result"
    },
    {
     "data": {
      "image/png": "[encoded data removed]",
      "text/plain": [
       "<Figure size 432x288 with 1 Axes>"
      ]
     },
     "metadata": {
      "needs_background": "light"
     },
     "output_type": "display_data"
    }
   ],
   "source": [
    "sns.distplot(Y_pred-y_test)"
   ]
  },
  {
   "cell_type": "markdown",
   "id": "8a6baca8",
   "metadata": {},
   "source": [
    "# Random forest"
   ]
  },
  {
   "cell_type": "code",
   "execution_count": 90,
   "id": "9ae41181",
   "metadata": {},
   "outputs": [],
   "source": [
    "from sklearn.ensemble import RandomForestRegressor\n",
    "from sklearn.model_selection import GridSearchCV"
   ]
  },
  {
   "cell_type": "code",
   "execution_count": 91,
   "id": "3b8cfeb6",
   "metadata": {},
   "outputs": [],
   "source": [
    "model=RandomForestRegressor()"
   ]
  },
  {
   "cell_type": "code",
   "execution_count": 92,
   "id": "123cf0b2",
   "metadata": {},
   "outputs": [],
   "source": [
    "parameters = {'n_estimators':[50,100,200,300,400,500,600],'criterion':['squared_error', 'absolute_error', 'poisson']}"
   ]
  },
  {
   "cell_type": "code",
   "execution_count": 93,
   "id": "9da2a2b4",
   "metadata": {},
   "outputs": [],
   "source": [
    "final = GridSearchCV(model,param_grid=parameters,cv=5)"
   ]
  },
  {
   "cell_type": "code",
   "execution_count": 94,
   "id": "349fa4a1",
   "metadata": {},
   "outputs": [
    {
     "data": {
      "text/plain": [
       "GridSearchCV(cv=5, estimator=RandomForestRegressor(),\n",
       "             param_grid={'criterion': ['squared_error', 'absolute_error',\n",
       "                                       'poisson'],\n",
       "                         'n_estimators': [50, 100, 200, 300, 400, 500, 600]})"
      ]
     },
     "execution_count": 94,
     "metadata": {},
     "output_type": "execute_result"
    }
   ],
   "source": [
    "final.fit(X_train,y_train)"
   ]
  },
  {
   "cell_type": "code",
   "execution_count": null,
   "id": "5711fec6",
   "metadata": {},
   "outputs": [],
   "source": [
    "print(cv.best_params_)"
   ]
  },
  {
   "cell_type": "code",
   "execution_count": 96,
   "id": "ce52e238",
   "metadata": {},
   "outputs": [],
   "source": [
    "y_pred=final.predict(X_test)"
   ]
  },
  {
   "cell_type": "code",
   "execution_count": 97,
   "id": "c53b83b9",
   "metadata": {},
   "outputs": [
    {
     "data": {
      "text/plain": [
       "array([18909.453425  , 17105.693175  ,  5173.80305   , 13195.51475   ,\n",
       "       11013.475825  ,  3652.388325  , 44155.537875  ,  4104.56975   ,\n",
       "        5803.8992    , 10800.4039    ,  3310.2835    ,  3206.6243    ,\n",
       "       17788.2416    , 48235.620625  ,  9606.354925  , 43769.11945   ,\n",
       "       13114.33775   , 11691.940975  , 11801.356975  , 18906.88495   ,\n",
       "        6677.951025  , 14290.1065    , 14881.356625  ,  5025.022275  ,\n",
       "       46022.9417    ,  2886.29015   ,  7716.94675   , 17235.062525  ,\n",
       "       11679.4091    , 20584.19165   ,  3110.869775  ,  7851.9639    ,\n",
       "       14069.703     , 14516.006825  , 10062.0412    , 40102.94035   ,\n",
       "        6908.261475  ,  4520.81615   , 26439.324675  , 15050.7519    ,\n",
       "       11086.5717    ,  1649.2253    , 11540.32675   ,  2249.15288333,\n",
       "        5485.1719    , 10191.5938    ,  6444.8277    , 13818.746575  ,\n",
       "       16544.361125  , 35490.5353    , 17211.0546    , 44372.489525  ,\n",
       "        5017.52595   ,  4993.222225  , 17668.7104    , 17969.153825  ,\n",
       "        2647.848725  ,  9722.002825  , 12156.534875  , 17820.382425  ,\n",
       "       39593.7329    ,  4562.420925  ,  5061.41637   ,  1413.19335   ,\n",
       "       13181.243925  , 14109.546675  , 12521.353775  , 19803.6491    ,\n",
       "       18816.4156    ,  1789.00305   , 11923.3329    ,  7036.6865    ,\n",
       "       11029.124325  ,  3176.79825   ,  4259.84856   , 13333.9886    ,\n",
       "       20097.429975  , 12194.991825  , 22565.025475  , 16027.0108    ,\n",
       "        8371.70475   ,  5657.285625  ,  2956.54055   ,  9085.4983    ,\n",
       "        1781.41757   ,  6759.799175  , 13335.39005   , 11648.81425   ,\n",
       "        9590.589475  , 17409.791975  , 13099.1982    ,  1762.01845   ,\n",
       "        5679.42925   ,  2568.977675  , 17171.803375  , 11474.895175  ,\n",
       "        9953.90885   ,  4569.61265   , 12707.345625  ,  3629.63535   ,\n",
       "        6918.979475  , 40508.285725  , 44411.3606    ,  7469.44445   ,\n",
       "       12810.9646    ,  8170.68295   ,  7985.317875  ,  7284.4556    ,\n",
       "       11728.22005   ,  3014.797625  ,  3091.81855   , 17023.77215   ,\n",
       "       22787.9411    , 15514.081125  ,  9833.085175  , 14401.49445   ,\n",
       "       15728.439325  ,  1913.643575  , 47035.366875  , 41864.9577    ,\n",
       "       38870.78055   ,  7794.49285   , 10998.6833    ,  6121.583625  ,\n",
       "       12041.9038    ,  3841.135     , 16885.592275  , 26555.8544    ,\n",
       "       46663.022925  ,  7217.22695   , 17460.540925  , 11270.243075  ,\n",
       "        2516.688775  ,  7781.321225  ,  7898.870525  ,  5913.367475  ,\n",
       "       12564.916275  ,  7435.93627   ,  6407.6131    ,  2548.232825  ,\n",
       "        3430.570275  , 17302.38045   ,  9302.541475  , 46512.8635    ,\n",
       "        6516.992225  , 12342.807625  , 11847.312575  , 13690.16245   ,\n",
       "       16722.794275  ,  8517.218525  , 38178.2388    , 18479.463075  ,\n",
       "       19796.914225  , 11359.17645   ,  2654.563075  ,  5594.9624    ,\n",
       "        4212.761285  , 12792.940625  , 11812.62065   ,  8012.325225  ,\n",
       "        7362.337425  , 12991.055575  , 22245.257225  ,  3429.0298    ,\n",
       "       43890.57995   ,  8700.490625  , 12185.64885   ,  2445.62825   ,\n",
       "        2069.547875  ,  9998.70765   ,  4615.860575  , 16345.323775  ,\n",
       "        7247.170975  ,  4516.8869    , 12376.73495   , 42134.341125  ,\n",
       "        7138.58285   ,  5997.02465   ,  2816.06228333,  4380.5797    ,\n",
       "       14020.934825  ,  6604.9214    , 12503.678675  ,  4080.157675  ,\n",
       "       11440.218025  ,  6731.131925  , 20838.3559    , 11230.368875  ,\n",
       "        9692.8944    ,  7509.7287    ,  4252.566725  , 14666.632925  ,\n",
       "       33710.0568    , 12191.037775  ,  3544.99665   ,  2552.730675  ,\n",
       "        9919.44285   ,  2160.441175  , 24994.942825  ,  7577.041975  ,\n",
       "        8623.924525  , 12008.54615   , 16513.78285   ,  4882.036475  ,\n",
       "        8119.853575  , 11462.355525  , 13664.4607    , 12736.6985    ,\n",
       "       29382.833575  , 13926.484175  , 17234.99335   , 12582.134375  ,\n",
       "        1771.864575  ,  5505.47985   ,  4769.087875  ,  8153.05175   ,\n",
       "       48456.013175  , 17861.8205    ,  5100.90005   , 47406.2636    ,\n",
       "       11480.25195   ,  8503.991975  ,  2626.633775  ,  7743.347275  ,\n",
       "       16937.9254    , 41736.984525  , 11046.589125  ,  6362.60905   ,\n",
       "        1645.910325  , 38700.1788    , 14815.242375  , 16872.4558    ,\n",
       "       14845.3551    ,  7617.04385   ,  8052.280575  ,  8726.603825  ,\n",
       "        4675.991775  , 41089.5841    , 10257.45455   ,  6607.8295    ,\n",
       "        9071.90965   ,  5075.8244    , 40046.12645   ,  3879.691425  ,\n",
       "       14070.8846    ,  7027.372975  , 14126.792025  , 13123.301175  ,\n",
       "       40784.56695   ,  7864.6521    ,  9331.808875  , 20680.25955   ,\n",
       "        2936.681525  ,  2509.212725  , 34521.78525   , 13847.8015    ,\n",
       "       10082.325075  , 22337.5298    , 21258.50485   , 21664.32925   ,\n",
       "       14489.025875  , 17070.8139    ,  6414.6521    , 15154.874975  ,\n",
       "        4287.10055   , 40141.861825  , 13682.4839    , 16196.588225  ,\n",
       "       21849.11925   , 10862.87605   ,  2800.34375   , 11873.912275  ,\n",
       "       47612.921975  ,  7245.65415   , 10415.1346    ,  5830.465275  ,\n",
       "        5995.486675  , 14170.48365   ,  6943.47155   , 48376.506475  ,\n",
       "        7105.29005   ,  3597.568675  , 35187.3565    ,  4392.9488    ,\n",
       "       35542.091375  , 18851.247975  ,  8596.432575  , 10263.020225  ,\n",
       "       17585.598025  , 15793.326475  ,  3461.672     ,  3744.688575  ,\n",
       "       38044.378875  ,  6839.25095   , 28647.9198    ,  8814.622275  ,\n",
       "       40245.515775  ,  2552.730675  ,  7556.50275   , 12844.206425  ,\n",
       "        5534.07435   , 13871.204275  ,  7788.812875  , 12163.01135   ,\n",
       "        3057.645525  ,  7447.381     , 23676.380875  , 46444.047075  ,\n",
       "       13831.08185   ,  3305.4697    ,  6609.5701    , 11861.45425   ,\n",
       "       13268.8014    , 35494.626575  ,  6874.83185   ,  3713.586525  ,\n",
       "        7079.78215   , 35545.698775  , 39224.218025  ,  7975.922425  ,\n",
       "        8444.5894    , 10496.02095   ,  7398.05915   ,  6418.1585    ,\n",
       "       11455.348925  ,  6028.31425   , 38601.53015   , 13418.544875  ,\n",
       "       14361.0296    ,  5013.07405   ,  4721.00309167, 18604.074025  ,\n",
       "       13769.348075  , 15068.992375  ,  7032.0686    ,  4072.510775  ,\n",
       "       14584.874325  , 46929.461325  ,  4722.18495   , 11120.109675  ,\n",
       "        6635.343825  ,  9793.848025  ,  3838.255375  , 11873.775075  ,\n",
       "       21676.455425  , 10312.072675  ,  6982.6196    , 14270.244425  ,\n",
       "        7536.074275  ,  6566.12545   , 10020.883375  , 13270.82145   ,\n",
       "        8664.440925  ,  2846.776675  ,  6073.018075  ,  6830.62015   ,\n",
       "       13352.373075  ,  7757.3613    ,  3457.540375  , 12221.56175   ,\n",
       "        7499.99585   , 42286.360425  ,  9798.653625  , 15289.8093    ,\n",
       "        6710.4906    ,  3509.4889    , 12153.427475  , 19349.293925  ,\n",
       "        4661.015675  ,  7657.5059    ,  3350.748025  , 21024.0225    ,\n",
       "       15313.0557    , 24032.49015   ,  3194.283275  , 35471.4363    ,\n",
       "        3228.3868    , 34603.729575  , 11648.666825  , 24988.136575  ,\n",
       "       14792.22115   , 11066.000975  ,  7788.8855    ,  2419.8814    ,\n",
       "       16643.940525  , 13478.7336    , 10189.7099    ,  7067.7816    ,\n",
       "        2196.0957    ,  6656.46555   ,  2486.69535833,  4577.236275  ,\n",
       "        5281.827575  , 37999.956125  , 13574.9732    , 13660.28155   ,\n",
       "       20658.209325  , 18570.05235   ,  4680.1042    , 10912.188275  ,\n",
       "       14165.04285   , 10732.402175  ])"
      ]
     },
     "execution_count": 97,
     "metadata": {},
     "output_type": "execute_result"
    }
   ],
   "source": [
    "y_pred"
   ]
  },
  {
   "cell_type": "code",
   "execution_count": 107,
   "id": "5fad0205",
   "metadata": {},
   "outputs": [],
   "source": [
    "from sklearn.metrics import r2_score,mean_squared_error,mean_absolute_error"
   ]
  },
  {
   "cell_type": "code",
   "execution_count": 108,
   "id": "f0df693b",
   "metadata": {},
   "outputs": [],
   "source": [
    "score=r2_score(y_test,y_pred)"
   ]
  },
  {
   "cell_type": "code",
   "execution_count": 109,
   "id": "d8bc1392",
   "metadata": {},
   "outputs": [
    {
     "data": {
      "text/plain": [
       "0.8412793481274151"
      ]
     },
     "execution_count": 109,
     "metadata": {},
     "output_type": "execute_result"
    }
   ],
   "source": [
    "score"
   ]
  },
  {
   "cell_type": "code",
   "execution_count": 110,
   "id": "44387573",
   "metadata": {},
   "outputs": [
    {
     "data": {
      "text/plain": [
       "21792801.34676945"
      ]
     },
     "execution_count": 110,
     "metadata": {},
     "output_type": "execute_result"
    }
   ],
   "source": [
    "mean_squared_error(y_test,y_pred)"
   ]
  },
  {
   "cell_type": "code",
   "execution_count": 111,
   "id": "9ef04646",
   "metadata": {},
   "outputs": [
    {
     "data": {
      "text/plain": [
       "2558.782771409622"
      ]
     },
     "execution_count": 111,
     "metadata": {},
     "output_type": "execute_result"
    }
   ],
   "source": [
    "mean_absolute_error(y_test,y_pred)"
   ]
  },
  {
   "cell_type": "code",
   "execution_count": 115,
   "id": "f58fc9ff",
   "metadata": {},
   "outputs": [
    {
     "name": "stderr",
     "output_type": "stream",
     "text": [
      "C:\\Users\\Hardik\\anaconda3\\lib\\site-packages\\seaborn\\distributions.py:2619: FutureWarning: `distplot` is a deprecated function and will be removed in a future version. Please adapt your code to use either `displot` (a figure-level function with similar flexibility) or `histplot` (an axes-level function for histograms).\n",
      "  warnings.warn(msg, FutureWarning)\n"
     ]
    },
    {
     "data": {
      "text/plain": [
       "<AxesSubplot:xlabel='expenses', ylabel='Density'>"
      ]
     },
     "execution_count": 115,
     "metadata": {},
     "output_type": "execute_result"
    },
    {
     "data": {
      "image/png": "[encoded data removed]",
      "text/plain": [
       "<Figure size 432x288 with 1 Axes>"
      ]
     },
     "metadata": {
      "needs_background": "light"
     },
     "output_type": "display_data"
    }
   ],
   "source": [
    "sns.distplot(y_pred-y_test,color='red')"
   ]
  },
  {
   "cell_type": "code",
   "execution_count": 114,
   "id": "0d329255",
   "metadata": {},
   "outputs": [
    {
     "data": {
      "text/plain": [
       "<AxesSubplot:xlabel='expenses'>"
      ]
     },
     "execution_count": 114,
     "metadata": {},
     "output_type": "execute_result"
    },
    {
     "data": {
      "image/png": "[encoded data removed]",
      "text/plain": [
       "<Figure size 432x288 with 1 Axes>"
      ]
     },
     "metadata": {
      "needs_background": "light"
     },
     "output_type": "display_data"
    }
   ],
   "source": [
    "sns.regplot(x=y_test,y=y_pred)"
   ]
  },
  {
   "cell_type": "code",
   "execution_count": null,
   "id": "4a1b21af",
   "metadata": {},
   "outputs": [],
   "source": []
  }
 ],
 "metadata": {
  "kernelspec": {
   "display_name": "Python 3 (ipykernel)",
   "language": "python",
   "name": "python3"
  },
  "language_info": {
   "codemirror_mode": {
    "name": "ipython",
    "version": 3
   },
   "file_extension": ".py",
   "mimetype": "text/x-python",
   "name": "python",
   "nbconvert_exporter": "python",
   "pygments_lexer": "ipython3",
   "version": "3.9.12"
  }
 },
 "nbformat": 4,
 "nbformat_minor": 5
}
